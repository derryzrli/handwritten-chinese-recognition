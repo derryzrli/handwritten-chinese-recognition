{
 "cells": [
  {
   "cell_type": "code",
   "execution_count": 1,
   "id": "c9d63c65-e6bf-4540-83a1-6b1f051ea004",
   "metadata": {},
   "outputs": [],
   "source": [
    "import os\n",
    "import shutil\n",
    "import numpy as np\n",
    "import pandas as pd\n",
    "import PIL.Image\n",
    "from matplotlib import pyplot as plt"
   ]
  },
  {
   "cell_type": "markdown",
   "id": "cde850e0-1128-4c05-b4ae-fe39355b7fac",
   "metadata": {},
   "source": [
    "### Look for installed font to show Chinese characters in Matplotlib"
   ]
  },
  {
   "cell_type": "code",
   "execution_count": 2,
   "id": "9e390138-1d0e-4bee-b776-0e7ee6b799e0",
   "metadata": {
    "collapsed": true,
    "jupyter": {
     "outputs_hidden": true
    },
    "tags": []
   },
   "outputs": [
    {
     "name": "stdout",
     "output_type": "stream",
     "text": [
      "/System/Library/Fonts/STHeiti Medium.ttc: Heiti SC,黑體\\-簡,黒体\\-簡,Heiti\\-간체,黑体\\-简:style=Medium,中黑,Halbfett,Normaali,Moyen,Medio,ミディアム,중간체,Médio,Средний,Normal,中等,Media\n",
      "/System/Library/Fonts/PingFang.ttc: PingFang TC,蘋方\\-繁,苹方\\-繁:style=Regular,標準體,常规体\n",
      "/System/Library/Fonts/PingFang.ttc: PingFang SC,蘋方\\-簡,苹方\\-简:style=Regular,標準體,常规体\n",
      "/System/Library/Fonts/PingFang.ttc: PingFang HK,蘋方\\-港,苹方\\-港:style=Regular,標準體,常规体\n",
      "/System/Library/Fonts/STHeiti Light.ttc: Heiti TC,黑體\\-繁,黒体\\-繁,Heiti\\-번체,黑体\\-繁:style=Light,細體,Mager,Fein,Ohut,Fin,Leggero,ライト,가는체,Licht,Tynn,Leve,Светлый,细体,Fina\n",
      "/System/Library/Fonts/Supplemental/Songti.ttc: Songti SC,宋體\\-簡,宋体\\-简:style=Light,細體,细体\n",
      "/System/Library/Fonts/Supplemental/Songti.ttc: Songti TC,宋體\\-繁,宋体\\-繁:style=Regular,標準體,常规体\n",
      "/System/Library/Fonts/Supplemental/Songti.ttc: Songti SC,宋體\\-簡,宋体\\-简:style=Regular,標準體,常规体\n",
      "/System/Library/Fonts/PingFang.ttc: .PingFang SC,.蘋方\\-簡,.苹方\\-简:style=Medium,中黑體,中黑体\n",
      "/System/Library/Fonts/PingFang.ttc: .PingFang HK,.蘋方\\-港,.苹方\\-港:style=Medium,中黑體,中黑体\n",
      "/System/Library/AssetsV2/com_apple_MobileAsset_Font7/e5552154f987b61f1aec25792e7d469c76c36cf9.asset/AssetData/STXIHEI.ttf: STHeiti:style=Light,細體,Mager,Fein,Ohut,Fin,Leggero,ライト,가는체,Licht,Tynn,Leve,Светлый,细体,Fina\n",
      "/System/Library/Fonts/Supplemental/Songti.ttc: Songti TC,宋體\\-繁,宋体\\-繁:style=Light,細體,细体\n",
      "/System/Library/Fonts/PingFang.ttc: .PingFang SC,.蘋方\\-簡,.苹方\\-简:style=Semibold,中粗體,中粗体\n",
      "/System/Library/Fonts/PingFang.ttc: .PingFang HK,.蘋方\\-港,.苹方\\-港:style=Semibold,中粗體,中粗体\n",
      "/System/Library/AssetsV2/com_apple_MobileAsset_Font7/195773f44e3b50d3f65df4ad766519675513dd9b.asset/AssetData/WeibeiTC-Bold.otf: Weibei TC,魏碑\\-繁,Weibei TC Bold:style=Bold,粗體,粗体\n",
      "/System/Library/AssetsV2/com_apple_MobileAsset_Font7/98e2cb2299c84bb2316240b6f8c03648cd4381c4.asset/AssetData/Hannotate.ttc: Hannotate TC,手札體\\-繁,手札体\\-繁:style=Bold,粗體,粗体\n",
      "/System/Library/Fonts/PingFang.ttc: .PingFang TC,.蘋方\\-繁,.苹方\\-繁:style=Medium,中黑體,中黑体\n",
      "/System/Library/AssetsV2/com_apple_MobileAsset_Font7/98e2cb2299c84bb2316240b6f8c03648cd4381c4.asset/AssetData/Hannotate.ttc: Hannotate SC,手札體\\-簡,手札体\\-简:style=Bold,粗體,粗体\n",
      "/System/Library/Fonts/PingFang.ttc: .PingFang TC,.蘋方\\-繁,.苹方\\-繁:style=Regular,標準體,常规体\n",
      "/System/Library/AssetsV2/com_apple_MobileAsset_Font7/bfbc9bc525d32306ff2510c82b472f2302314104.asset/AssetData/Xingkai.ttc: Xingkai TC,行楷\\-繁:style=Light,細體,细体\n",
      "/System/Library/Fonts/PingFang.ttc: .PingFang TC,.蘋方\\-繁,.苹方\\-繁:style=Semibold,中粗體,中粗体\n",
      "/System/Library/AssetsV2/com_apple_MobileAsset_Font7/3654e7b6d86b822469492a09d0fab2027254ac74.asset/AssetData/BiauKai.ttf: BiauKai:style=Regular,標準體,Ordinær,Normal,Normaali,Regolare,レギュラー,일반체,Regulier,Обычный,常规体\n",
      "/System/Library/AssetsV2/com_apple_MobileAsset_Font7/4187e64a3368781656782ccb95eadb9c19796e1d.asset/AssetData/Kaiti.ttc: Kaiti SC,楷體\\-簡,楷体\\-简:style=Regular,標準體,常规体\n",
      "/System/Library/AssetsV2/com_apple_MobileAsset_Font7/905827e78818e61b443c98556508d4900974b94f.asset/AssetData/SimSong.ttc: SimSong,簡宋,简宋:style=Bold,粗體,粗体\n",
      "/System/Library/Fonts/PingFang.ttc: .PingFang SC,.蘋方\\-簡,.苹方\\-简:style=Regular,標準體,常规体\n",
      "/System/Library/AssetsV2/com_apple_MobileAsset_Font7/e2d3f9277678ccbf64020abef4c0eb9a1de1bed3.asset/AssetData/Lantinghei.ttc: Lantinghei TC,蘭亭黑\\-繁,兰亭黑\\-繁:style=Heavy,特黑\n",
      "/System/Library/Fonts/PingFang.ttc: .PingFang HK,.蘋方\\-港,.苹方\\-港:style=Regular,標準體,常规体\n",
      "/System/Library/Fonts/Supplemental/Songti.ttc: Songti SC,宋體\\-簡,宋体\\-简:style=Black,黑體,黑体\n",
      "/System/Library/AssetsV2/com_apple_MobileAsset_Font7/8af8ef1b2184fca255aacdbcdcbe80e9ca2903fd.asset/AssetData/Hanzipen.ttc: HanziPen TC,翩翩體\\-繁,翩翩体\\-繁,翩翩體 繁:style=Bold,粗體,粗体\n",
      "/System/Library/AssetsV2/com_apple_MobileAsset_Font7/4187e64a3368781656782ccb95eadb9c19796e1d.asset/AssetData/Kaiti.ttc: Kaiti TC,楷體\\-繁,楷体\\-繁:style=Regular,標準體,常规体\n",
      "/System/Library/AssetsV2/com_apple_MobileAsset_Font7/e2d3f9277678ccbf64020abef4c0eb9a1de1bed3.asset/AssetData/Lantinghei.ttc: Lantinghei SC,蘭亭黑\\-簡,兰亭黑\\-简:style=Heavy,特黑\n",
      "/System/Library/AssetsV2/com_apple_MobileAsset_Font7/8af8ef1b2184fca255aacdbcdcbe80e9ca2903fd.asset/AssetData/Hanzipen.ttc: HanziPen SC,翩翩體\\-簡,翩翩体\\-简,翩翩體 簡:style=Bold,粗體,粗体\n",
      "/System/Library/Fonts/PingFang.ttc: PingFang TC,蘋方\\-繁,苹方\\-繁:style=Ultralight,極細體,极细体\n",
      "/System/Library/Fonts/PingFang.ttc: PingFang SC,蘋方\\-簡,苹方\\-简:style=Ultralight,極細體,极细体\n",
      "/System/Library/Fonts/PingFang.ttc: PingFang HK,蘋方\\-港,苹方\\-港:style=Ultralight,極細體,极细体\n",
      "/System/Library/AssetsV2/com_apple_MobileAsset_Font7/4187e64a3368781656782ccb95eadb9c19796e1d.asset/AssetData/Kaiti.ttc: Kaiti TC,楷體\\-繁,楷体\\-繁:style=Bold,粗體,粗体\n",
      "/System/Library/AssetsV2/com_apple_MobileAsset_Font7/4187e64a3368781656782ccb95eadb9c19796e1d.asset/AssetData/Kaiti.ttc: Kaiti SC,楷體\\-簡,楷体\\-简:style=Bold,粗體,粗体\n",
      "/System/Library/AssetsV2/com_apple_MobileAsset_Font7/4f1a8b43294cadf46edf995c8d2a8cbb9d83a322.asset/AssetData/LiSongPro.ttf: LiSong Pro:style=Light,細體,Mager,Fein,Ohut,Fin,Leggero,ライト,가는체,Licht,Tynn,Leve,Светлый,细体,Fina\n",
      "/System/Library/AssetsV2/com_apple_MobileAsset_Font7/e2d3f9277678ccbf64020abef4c0eb9a1de1bed3.asset/AssetData/Lantinghei.ttc: Lantinghei SC,蘭亭黑\\-簡,兰亭黑\\-简:style=Demibold,中黑\n",
      "/System/Library/AssetsV2/com_apple_MobileAsset_Font7/adea18c4c619b4f3c1fd32b9550d5315e1f06612.asset/AssetData/LingWaiTC-Medium.otf: LingWai TC,凌慧體\\-繁,凌慧体\\-繁:style=Medium,中黑體,中黑体\n",
      "/System/Library/AssetsV2/com_apple_MobileAsset_Font7/0d04de5fedccc4d27db4f275579c2cbb93e71946.asset/AssetData/STFANGSO.ttf: STFangsong:style=Regular,標準體,Ordinær,Normal,Normaali,Regolare,レギュラー,일반체,Regulier,Обычный,常规体\n",
      "/System/Library/AssetsV2/com_apple_MobileAsset_Font7/e2d3f9277678ccbf64020abef4c0eb9a1de1bed3.asset/AssetData/Lantinghei.ttc: Lantinghei TC,蘭亭黑\\-繁,兰亭黑\\-繁:style=Demibold,中黑\n",
      "/Library/Fonts/Arial Unicode.ttf: Arial Unicode MS:style=Regular,Normal,obyčejné,Standard,Κανονικά,Normaali,Normál,Normale,Standaard,Normalny,Обычный,Normálne,Navadno,Arrunta\n",
      "/System/Library/Fonts/PingFang.ttc: .PingFang TC,.蘋方\\-繁,.苹方\\-繁:style=Ultralight,極細體,极细体\n",
      "/System/Library/AssetsV2/com_apple_MobileAsset_Font7/88711b990cf5a930e661f90719e25e51d7441c41.asset/AssetData/Baoli.ttc: Baoli TC,報隸\\-繁,报隶\\-繁:style=Regular,標準體,常规体\n",
      "/System/Library/Fonts/PingFang.ttc: PingFang HK,蘋方\\-港,苹方\\-港:style=Light,細體,细体\n",
      "/System/Library/Fonts/PingFang.ttc: PingFang SC,蘋方\\-簡,苹方\\-简:style=Light,細體,细体\n",
      "/System/Library/AssetsV2/com_apple_MobileAsset_Font7/8af8ef1b2184fca255aacdbcdcbe80e9ca2903fd.asset/AssetData/Hanzipen.ttc: HanziPen SC,翩翩體\\-簡,翩翩体\\-简,翩翩體 簡:style=Regular,標準體,常规体\n",
      "/System/Library/Fonts/PingFang.ttc: .PingFang SC,.蘋方\\-簡,.苹方\\-简:style=Ultralight,極細體,极细体\n",
      "/System/Library/Fonts/PingFang.ttc: .PingFang HK,.蘋方\\-港,.苹方\\-港:style=Ultralight,極細體,极细体\n",
      "/System/Library/Fonts/Hiragino Sans GB.ttc: .Hiragino Sans GB Interface:style=W6\n",
      "/System/Library/Fonts/Hiragino Sans GB.ttc: .Hiragino Sans GB Interface:style=W3\n",
      "/System/Library/Fonts/PingFang.ttc: PingFang TC,蘋方\\-繁,苹方\\-繁:style=Light,細體,细体\n",
      "/System/Library/AssetsV2/com_apple_MobileAsset_Font7/88711b990cf5a930e661f90719e25e51d7441c41.asset/AssetData/Baoli.ttc: Baoli SC,報隸\\-簡,报隶\\-简:style=Regular,標準體,常规体\n",
      "/System/Library/AssetsV2/com_apple_MobileAsset_Font7/8af8ef1b2184fca255aacdbcdcbe80e9ca2903fd.asset/AssetData/Hanzipen.ttc: HanziPen TC,翩翩體\\-繁,翩翩体\\-繁,翩翩體 繁:style=Regular,標準體,常规体\n",
      "/System/Library/AssetsV2/com_apple_MobileAsset_Font7/838a35be7789893f49a3687e66a69579f87b525a.asset/AssetData/YuppySC-Regular.otf: Yuppy SC,雅痞\\-簡,雅痞\\-简:style=Regular,標準體,常规体\n",
      "/System/Library/AssetsV2/com_apple_MobileAsset_Font7/905827e78818e61b443c98556508d4900974b94f.asset/AssetData/SimSong.ttc: SimSong,簡宋,简宋:style=Regular,標準體,常规体\n",
      "/System/Library/AssetsV2/com_apple_MobileAsset_Font7/98e2cb2299c84bb2316240b6f8c03648cd4381c4.asset/AssetData/Hannotate.ttc: Hannotate SC,手札體\\-簡,手札体\\-简:style=Regular,標準體,常规体\n",
      "/System/Library/AssetsV2/com_apple_MobileAsset_Font7/f7a17a65cd466d3394706b8a7093ba750317400c.asset/AssetData/YuppyTC-Regular.otf: Yuppy TC,雅痞\\-繁:style=Regular,標準體,常规体\n",
      "/System/Library/AssetsV2/com_apple_MobileAsset_Font7/ad4b138410d6ca068e49530c01eff6bb171b2dc1.asset/AssetData/Yuanti.ttc: Yuanti SC,圓體\\-簡,圆体\\-简:style=Bold,粗體,粗体\n",
      "/System/Library/AssetsV2/com_apple_MobileAsset_Font7/fe0037654ea1c81d6ab5d0ef4975511486f24fed.asset/AssetData/STHEITI.ttf: STHeiti:style=Regular,標準體,Ordinær,Normal,Normaali,Regolare,レギュラー,일반체,Regulier,Обычный,常规体\n",
      "/System/Library/Fonts/Hiragino Sans GB.ttc: Hiragino Sans GB,冬青黑體簡體中文,ヒラギノ角ゴ 簡体中文,冬青黑体简体中文,Hiragino Sans GB W3,冬青黑體簡體中文 W3,ヒラギノ角ゴ 簡体中文 W3,冬青黑体简体中文 W3:style=W3,Regular\n",
      "/System/Library/AssetsV2/com_apple_MobileAsset_Font7/bfbc9bc525d32306ff2510c82b472f2302314104.asset/AssetData/Xingkai.ttc: Xingkai SC,行楷\\-簡,行楷\\-简:style=Bold,粗體,粗体\n",
      "/System/Library/Fonts/PingFang.ttc: PingFang TC,蘋方\\-繁,苹方\\-繁:style=Thin,纖細體,纤细体\n",
      "/System/Library/AssetsV2/com_apple_MobileAsset_Font7/98e2cb2299c84bb2316240b6f8c03648cd4381c4.asset/AssetData/Hannotate.ttc: Hannotate TC,手札體\\-繁,手札体\\-繁:style=Regular,標準體,常规体\n",
      "/System/Library/AssetsV2/com_apple_MobileAsset_Font7/772660ecfba437381eb209b2f5747e907745e675.asset/AssetData/Hei.ttf: Hei:style=Regular\n",
      "/System/Library/AssetsV2/com_apple_MobileAsset_Font7/ad4b138410d6ca068e49530c01eff6bb171b2dc1.asset/AssetData/Yuanti.ttc: Yuanti TC,圓體\\-繁,圆体\\-繁:style=Bold,粗體,粗体\n",
      "/System/Library/Fonts/Supplemental/Arial Unicode.ttf: Arial Unicode MS:style=Regular,Normal,obyčejné,Standard,Κανονικά,Normaali,Normál,Normale,Standaard,Normalny,Обычный,Normálne,Navadno,Arrunta\n",
      "/System/Library/Fonts/PingFang.ttc: .PingFang HK,.蘋方\\-港,.苹方\\-港:style=Light,細體,细体\n",
      "/System/Library/Fonts/PingFang.ttc: .PingFang SC,.蘋方\\-簡,.苹方\\-简:style=Light,細體,细体\n",
      "/System/Library/Fonts/PingFang.ttc: PingFang SC,蘋方\\-簡,苹方\\-简:style=Medium,中黑體,中黑体\n",
      "/System/Library/Fonts/PingFang.ttc: PingFang HK,蘋方\\-港,苹方\\-港:style=Medium,中黑體,中黑体\n",
      "/System/Library/Fonts/PingFang.ttc: PingFang HK,蘋方\\-港,苹方\\-港:style=Thin,纖細體,纤细体\n",
      "/System/Library/Fonts/PingFang.ttc: PingFang SC,蘋方\\-簡,苹方\\-简:style=Thin,纖細體,纤细体\n",
      "/System/Library/Fonts/STHeiti Medium.ttc: Heiti TC,黑體\\-繁,黒体\\-繁,Heiti\\-번체,黑体\\-繁:style=Medium,中黑,Halbfett,Normaali,Moyen,Medio,ミディアム,중간체,Médio,Средний,Normal,中等,Media\n",
      "/System/Library/AssetsV2/com_apple_MobileAsset_Font7/cbb22a59704ae869e2200512faf6dfa7f2851450.asset/AssetData/AppleLiGothic-Medium.ttf: Apple LiGothic:style=Medium,Moyen,Halbfett,Medio,Normal,Media,Médio,Normaali\n",
      "/System/Library/AssetsV2/com_apple_MobileAsset_Font7/2fb8f7fa438f51653cfbfb93f24c56374cbdfb88.asset/AssetData/LiHeiPro.ttf: LiHei Pro:style=Medium,中黑,Halbfett,Normaali,Moyen,Medio,ミディアム,중간체,Médio,Средний,Normal,中等,Media\n",
      "/System/Library/Fonts/PingFang.ttc: .PingFang TC,.蘋方\\-繁,.苹方\\-繁:style=Light,細體,细体\n",
      "/System/Library/Fonts/PingFang.ttc: PingFang TC,蘋方\\-繁,苹方\\-繁:style=Medium,中黑體,中黑体\n",
      "/System/Library/AssetsV2/com_apple_MobileAsset_Font7/4187e64a3368781656782ccb95eadb9c19796e1d.asset/AssetData/Kaiti.ttc: Kaiti TC,楷體\\-繁,楷体\\-繁:style=Black,黑體,黑体\n",
      "/System/Library/AssetsV2/com_apple_MobileAsset_Font7/f7e67aceddcfe715080f39b53de5d136ea7dee82.asset/AssetData/LingWaiSC-Medium.otf: LingWai SC,凌慧體\\-簡,凌慧体\\-简:style=Medium,中黑體,中黑体\n",
      "/System/Library/AssetsV2/com_apple_MobileAsset_Font7/4187e64a3368781656782ccb95eadb9c19796e1d.asset/AssetData/Kaiti.ttc: Kaiti SC,楷體\\-簡,楷体\\-简:style=Black,黑體,黑体\n",
      "/System/Library/Fonts/PingFang.ttc: .PingFang TC,.蘋方\\-繁,.苹方\\-繁:style=Thin,纖細體,纤细体\n",
      "/System/Library/Fonts/Supplemental/Songti.ttc: Songti SC,宋體\\-簡,宋体\\-简:style=Bold,粗體,粗体\n",
      "/System/Library/Fonts/STHeiti Light.ttc: Heiti SC,黑體\\-簡,黒体\\-簡,Heiti\\-간체,黑体\\-简:style=Light,細體,Mager,Fein,Ohut,Fin,Leggero,ライト,가는체,Licht,Tynn,Leve,Светлый,细体,Fina\n",
      "/System/Library/Fonts/PingFang.ttc: .PingFang HK,.蘋方\\-港,.苹方\\-港:style=Thin,纖細體,纤细体\n",
      "/System/Library/Fonts/PingFang.ttc: .PingFang SC,.蘋方\\-簡,.苹方\\-简:style=Thin,纖細體,纤细体\n",
      "/System/Library/Fonts/Supplemental/Songti.ttc: Songti TC,宋體\\-繁,宋体\\-繁:style=Bold,粗體,粗体\n",
      "/System/Library/AssetsV2/com_apple_MobileAsset_Font7/675de752f921f2d8bcf20337405ed385acf681af.asset/AssetData/Libian.ttc: Libian SC,隸變\\-簡,隶变\\-简:style=Regular,標準體,常规体\n",
      "/System/Library/AssetsV2/com_apple_MobileAsset_Font7/bfbc9bc525d32306ff2510c82b472f2302314104.asset/AssetData/Xingkai.ttc: Xingkai TC,行楷\\-繁:style=Bold,粗體,粗体\n",
      "/System/Library/AssetsV2/com_apple_MobileAsset_Font7/675de752f921f2d8bcf20337405ed385acf681af.asset/AssetData/Libian.ttc: Libian TC,隸變\\-繁,隶变\\-繁:style=Regular,標準體,常规体\n",
      "/System/Library/AssetsV2/com_apple_MobileAsset_Font7/0d3ddee7723e8bd7c25c57c89657c5bf54a3d595.asset/AssetData/WawaSC-Regular.otf: Wawati SC,娃娃體\\-簡,娃娃体\\-简:style=Regular,標準體,常规体\n",
      "/System/Library/AssetsV2/com_apple_MobileAsset_Font7/bda510f2a1db5db93142c99d143906859474c692.asset/AssetData/WeibeiSC-Bold.otf: Weibei SC,魏碑\\-簡,魏碑\\-简:style=Bold,粗體,粗体\n",
      "/System/Library/AssetsV2/com_apple_MobileAsset_Font7/3dd54153251d4dcaa7dc108579f7320f5978c120.asset/AssetData/Kai.ttf: Kai:style=Regular\n",
      "/System/Library/AssetsV2/com_apple_MobileAsset_Font7/27f455231692b1165bd91494bebb0e4d2c59d180.asset/AssetData/Hiragino_Sans_CNS.ttc: Hiragino Sans CNS,冬青黑體繁體中文,ヒラギノ角ゴ 繁体中文,冬青黑体繁体中文,Hiragino Sans CNS W3,冬青黑體繁體中文 W3,ヒラギノ角ゴ 繁体中文 W3,冬青黑体繁体中文 W3:style=W3,Regular\n",
      "/System/Library/AssetsV2/com_apple_MobileAsset_Font7/2859d2cfc5555b6a4b3e1ddd561ce3a90ddf82e7.asset/AssetData/WawaTC-Regular.otf: Wawati TC,娃娃體\\-繁,娃娃体\\-繁:style=Regular,標準體,常规体\n",
      "/System/Library/Fonts/Supplemental/Songti.ttc: STSong:style=Regular,標準體,Ordinær,Normal,Normaali,Regolare,レギュラー,일반체,Regulier,Обычный,常规体\n",
      "/System/Library/AssetsV2/com_apple_MobileAsset_Font7/ad4b138410d6ca068e49530c01eff6bb171b2dc1.asset/AssetData/Yuanti.ttc: Yuanti TC,圓體\\-繁,圆体\\-繁:style=Regular,標準體,常规体\n",
      "/System/Library/AssetsV2/com_apple_MobileAsset_Font7/ad4b138410d6ca068e49530c01eff6bb171b2dc1.asset/AssetData/Yuanti.ttc: Yuanti SC,圓體\\-簡,圆体\\-简:style=Regular,標準體,常规体\n",
      "/System/Library/AssetsV2/com_apple_MobileAsset_Font7/bfbc9bc525d32306ff2510c82b472f2302314104.asset/AssetData/Xingkai.ttc: Xingkai SC,行楷\\-簡,行楷\\-简:style=Light,細體,细体\n",
      "/System/Library/AssetsV2/com_apple_MobileAsset_Font7/27f455231692b1165bd91494bebb0e4d2c59d180.asset/AssetData/Hiragino_Sans_CNS.ttc: Hiragino Sans CNS,冬青黑體繁體中文,ヒラギノ角ゴ 繁体中文,冬青黑体繁体中文,Hiragino Sans CNS W6,冬青黑體繁體中文 W6,ヒラギノ角ゴ 繁体中文 W6,冬青黑体繁体中文 W6:style=W6,Bold\n",
      "/System/Library/AssetsV2/com_apple_MobileAsset_Font7/4187e64a3368781656782ccb95eadb9c19796e1d.asset/AssetData/Kaiti.ttc: STKaiti:style=Regular,標準體,Ordinær,Normal,Normaali,Regolare,レギュラー,일반체,Regulier,Обычный,常规体\n",
      "/System/Library/AssetsV2/com_apple_MobileAsset_Font7/ad4b138410d6ca068e49530c01eff6bb171b2dc1.asset/AssetData/Yuanti.ttc: Yuanti SC,圓體\\-簡,圆体\\-简:style=Light,細體,细体\n",
      "/System/Library/AssetsV2/com_apple_MobileAsset_Font7/e2d3f9277678ccbf64020abef4c0eb9a1de1bed3.asset/AssetData/Lantinghei.ttc: Lantinghei SC,蘭亭黑\\-簡,兰亭黑\\-简:style=Extralight,纖黑,纤黑\n",
      "/System/Library/AssetsV2/com_apple_MobileAsset_Font7/ad4b138410d6ca068e49530c01eff6bb171b2dc1.asset/AssetData/Yuanti.ttc: Yuanti TC,圓體\\-繁,圆体\\-繁:style=Light,細體,细体\n",
      "/System/Library/Fonts/Supplemental/NISC18030.ttf: GB18030 Bitmap:style=Regular,標準體,Ordinær,Normal,Normaali,Regolare,レギュラー,일반체,Regulier,Обычный,常规体\n",
      "/System/Library/Fonts/PingFang.ttc: PingFang SC,蘋方\\-簡,苹方\\-简:style=Semibold,中粗體,中粗体\n",
      "/System/Library/Fonts/PingFang.ttc: PingFang HK,蘋方\\-港,苹方\\-港:style=Semibold,中粗體,中粗体\n",
      "/System/Library/Fonts/LastResort.otf: .LastResort:style=Regular\n",
      "/System/Library/Fonts/Hiragino Sans GB.ttc: Hiragino Sans GB,冬青黑體簡體中文,ヒラギノ角ゴ 簡体中文,冬青黑体简体中文,Hiragino Sans GB W6,冬青黑體簡體中文 W6,ヒラギノ角ゴ 簡体中文 W6,冬青黑体简体中文 W6:style=W6,Bold\n",
      "/System/Library/Fonts/PingFang.ttc: PingFang TC,蘋方\\-繁,苹方\\-繁:style=Semibold,中粗體,中粗体\n",
      "/System/Library/AssetsV2/com_apple_MobileAsset_Font7/3fcd72bc350b229eea0f818e5deecfc49585c02c.asset/AssetData/AppleLiSung-Light.ttf: Apple LiSung:style=Light,Fin,Mager,Chiaro,Licht,Fina,Ohut\n",
      "/System/Library/AssetsV2/com_apple_MobileAsset_Font7/e2d3f9277678ccbf64020abef4c0eb9a1de1bed3.asset/AssetData/Lantinghei.ttc: Lantinghei TC,蘭亭黑\\-繁,兰亭黑\\-繁:style=Extralight,纖黑,纤黑\n"
     ]
    }
   ],
   "source": [
    "!fc-list :lang=zh"
   ]
  },
  {
   "cell_type": "code",
   "execution_count": 3,
   "id": "a017ae24-fe65-4f43-8249-407b712ef242",
   "metadata": {},
   "outputs": [],
   "source": [
    "from matplotlib.font_manager import FontProperties\n",
    "# plt.rcParams['font.family'] = ['STKaiti'] \n",
    "plt.rcParams['font.family'] = ['Heiti TC'] \n",
    "plt.rcParams['axes.unicode_minus'] = False  # in case minus sign is shown as box"
   ]
  },
  {
   "cell_type": "code",
   "execution_count": 4,
   "id": "15f2429e-2fbd-456a-aa94-06c12689379d",
   "metadata": {},
   "outputs": [],
   "source": [
    "import tensorflow as tf\n",
    "from tensorflow.keras.preprocessing.image import load_img, ImageDataGenerator\n",
    "from tensorflow.keras.models import Sequential, load_model\n",
    "from tensorflow.keras.layers import Conv2D, MaxPooling2D, Flatten, Dense, Dropout  \n",
    "from tensorflow.keras.optimizers import Adam"
   ]
  },
  {
   "cell_type": "code",
   "execution_count": 5,
   "id": "d8c9b7b6-1512-4202-83e3-42e60568ec18",
   "metadata": {},
   "outputs": [
    {
     "name": "stdout",
     "output_type": "stream",
     "text": [
      "Current working directory: /Users/derryzrli/Downloads/data_dsi_capstone/traditional_chinese_characters_cleaned\n"
     ]
    }
   ],
   "source": [
    "raw_data_path = '/Users/derryzrli/Downloads/data_dsi_capstone/traditional_chinese_characters_cleaned'\n",
    "training_data_path = '/Users/derryzrli/Downloads/data_dsi_capstone/traditional_chinese_training_data/'\n",
    "testing_data_path = '/Users/derryzrli/Downloads/data_dsi_capstone/traditional_chinese_testing_data/'\n",
    "\n",
    "os.chdir(raw_data_path)\n",
    "print( 'Current working directory:', os.getcwd() ) "
   ]
  },
  {
   "cell_type": "code",
   "execution_count": 6,
   "id": "f467f500-4bf2-4b0d-a7a7-9b3fc3ecf1d2",
   "metadata": {},
   "outputs": [],
   "source": [
    "selected_chars = [ '學', '無', '止', '境' ]"
   ]
  },
  {
   "cell_type": "code",
   "execution_count": null,
   "id": "6259a55f-b21a-48dd-b329-8da87afdaf6c",
   "metadata": {},
   "outputs": [],
   "source": []
  },
  {
   "cell_type": "code",
   "execution_count": 7,
   "id": "9ee85746-d4e0-45fa-b9a6-8f8a83b64fad",
   "metadata": {},
   "outputs": [],
   "source": [
    "os.chdir(raw_data_path)\n",
    "try: \n",
    "    os.mkdir(training_data_path) \n",
    "\n",
    "except:\n",
    "    shutil.rmtree(training_data_path)\n",
    "    os.mkdir(training_data_path) \n",
    "\n",
    "finally: \n",
    "    for char in selected_chars:\n",
    "        shutil.copytree(raw_data_path+'/'+char, training_data_path+'/'+char )"
   ]
  },
  {
   "cell_type": "code",
   "execution_count": 8,
   "id": "6fd0df99-2cee-4023-ad87-a2bd63e19fbd",
   "metadata": {},
   "outputs": [
    {
     "data": {
      "text/plain": [
       "'/Users/derryzrli/Downloads/data_dsi_capstone/traditional_chinese_characters_cleaned'"
      ]
     },
     "execution_count": 8,
     "metadata": {},
     "output_type": "execute_result"
    }
   ],
   "source": [
    "os.getcwd()"
   ]
  },
  {
   "cell_type": "markdown",
   "id": "d2d89f3e-a554-4491-99b0-195f599b2257",
   "metadata": {},
   "source": [
    "### Let's visualize a sample data"
   ]
  },
  {
   "cell_type": "code",
   "execution_count": 9,
   "id": "1f78d227-4d04-4b33-885d-7f5e33d3a564",
   "metadata": {},
   "outputs": [],
   "source": [
    "img_list = []\n",
    "for char in selected_chars : \n",
    "    folder_path = training_data_path+'/'+char\n",
    "    file_names = os.listdir(folder_path)\n",
    "    for i in range(7):\n",
    "        img_list.append(folder_path+'/'+file_names[i])"
   ]
  },
  {
   "cell_type": "code",
   "execution_count": 10,
   "id": "290eb93f-a959-4ff2-9d0e-8f00a4da7f18",
   "metadata": {},
   "outputs": [
    {
     "data": {
      "text/plain": [
       "['/Users/derryzrli/Downloads/data_dsi_capstone/traditional_chinese_training_data//學/學_8.png',\n",
       " '/Users/derryzrli/Downloads/data_dsi_capstone/traditional_chinese_training_data//學/學_22.png',\n",
       " '/Users/derryzrli/Downloads/data_dsi_capstone/traditional_chinese_training_data//學/學_36.png']"
      ]
     },
     "execution_count": 10,
     "metadata": {},
     "output_type": "execute_result"
    }
   ],
   "source": [
    "img_list[:3]"
   ]
  },
  {
   "cell_type": "markdown",
   "id": "d6f6b619-deef-4442-b924-9d62f378f19a",
   "metadata": {},
   "source": [
    "### Sample Data"
   ]
  },
  {
   "cell_type": "code",
   "execution_count": 11,
   "id": "8003b6cd-b164-4acd-a3d9-89140f1a7b67",
   "metadata": {},
   "outputs": [
    {
     "name": "stderr",
     "output_type": "stream",
     "text": [
      "2022-06-09 16:31:11.701329: I tensorflow/core/platform/cpu_feature_guard.cc:142] This TensorFlow binary is optimized with oneAPI Deep Neural Network Library (oneDNN) to use the following CPU instructions in performance-critical operations:  SSE4.1 SSE4.2\n",
      "To enable them in other operations, rebuild TensorFlow with the appropriate compiler flags.\n"
     ]
    },
    {
     "name": "stdout",
     "output_type": "stream",
     "text": [
      "{'無', '境', '止', '學'}\n"
     ]
    },
    {
     "data": {
      "image/png": "[encoded data removed]",
      "text/plain": [
       "<Figure size 864x864 with 28 Axes>"
      ]
     },
     "metadata": {
      "needs_background": "light"
     },
     "output_type": "display_data"
    }
   ],
   "source": [
    "l = []\n",
    "for i in range(28):      \n",
    "    plt.subplot(4,7,i+1)\n",
    "    title = img_list[i].split('/')[-1].split('_')[0]\n",
    "    \n",
    "    plt.gcf().set_size_inches((12,12)) \n",
    "    img = load_img(img_list[i])  \n",
    "    img = tf.constant(np.array(img))\n",
    "    plt.imshow(img)\n",
    "    plt.title(title)\n",
    "    l.append(title)\n",
    "print(set(l))"
   ]
  },
  {
   "cell_type": "markdown",
   "id": "9eda8768-e673-4c3e-a7b2-4fa0621247a4",
   "metadata": {},
   "source": [
    "----"
   ]
  },
  {
   "cell_type": "markdown",
   "id": "ef421e51-bad2-4363-8570-71f97fdd743c",
   "metadata": {},
   "source": [
    "### Data Augmentation"
   ]
  },
  {
   "cell_type": "markdown",
   "id": "45b41d61-c3a4-4230-86fe-a13f9a51ce74",
   "metadata": {},
   "source": [
    "#### Training Set"
   ]
  },
  {
   "cell_type": "code",
   "execution_count": 73,
   "id": "17b2bd24-b632-4fe2-9d37-e3661fab4dd0",
   "metadata": {},
   "outputs": [],
   "source": [
    "train_data_gen = ImageDataGenerator(rescale = 1./255, \n",
    "                                    validation_split = 0.2,\n",
    "                                    width_shift_range = 0.05,   \n",
    "                                    height_shift_range = 0.05,\n",
    "                                    zoom_range = 0.1)"
   ]
  },
  {
   "cell_type": "code",
   "execution_count": 74,
   "id": "c49f57fa-8372-42b3-a40a-4efe0e43dc03",
   "metadata": {},
   "outputs": [
    {
     "name": "stdout",
     "output_type": "stream",
     "text": [
      "Found 163 images belonging to 4 classes.\n"
     ]
    }
   ],
   "source": [
    "train_gen = train_data_gen.flow_from_directory(training_data_path,\n",
    "                                               target_size = (50,50),\n",
    "                                               batch_size = 8,\n",
    "                                               class_mode = 'categorical',\n",
    "                                               subset = 'training'\n",
    "                                              )"
   ]
  },
  {
   "cell_type": "markdown",
   "id": "9749d261-0b01-431e-bd0f-96366c326466",
   "metadata": {},
   "source": [
    "#### Testing Set"
   ]
  },
  {
   "cell_type": "code",
   "execution_count": 75,
   "id": "6418c94d-e1ff-4c8e-a354-d91613dbae46",
   "metadata": {},
   "outputs": [],
   "source": [
    "test_data_gen = ImageDataGenerator(rescale = 1./255, \n",
    "                                    validation_split = 0.2)"
   ]
  },
  {
   "cell_type": "code",
   "execution_count": 76,
   "id": "b9cb1e89-382b-4ed6-8879-42338ef238c8",
   "metadata": {},
   "outputs": [
    {
     "name": "stdout",
     "output_type": "stream",
     "text": [
      "Found 40 images belonging to 4 classes.\n"
     ]
    }
   ],
   "source": [
    "test_gen = test_data_gen.flow_from_directory(training_data_path,\n",
    "                                             target_size = (50,50),\n",
    "                                             batch_size = 8,\n",
    "                                             class_mode = 'categorical',\n",
    "                                             subset = 'validation')"
   ]
  },
  {
   "cell_type": "code",
   "execution_count": 77,
   "id": "29cfc86f-7566-4686-af4d-34e9f8540458",
   "metadata": {},
   "outputs": [
    {
     "data": {
      "text/plain": [
       "(8, 50, 50, 3)"
      ]
     },
     "execution_count": 77,
     "metadata": {},
     "output_type": "execute_result"
    }
   ],
   "source": [
    "test_gen[0][0].shape"
   ]
  },
  {
   "cell_type": "code",
   "execution_count": 78,
   "id": "8e8bfd75-d742-4e88-8e4b-1a6d38ac35e7",
   "metadata": {},
   "outputs": [],
   "source": [
    "model = Sequential() \n",
    "model.add(\n",
    "    Conv2D(filters=5, \n",
    "           kernel_size=(2,2), \n",
    "           activation='relu', \n",
    "           padding='same',\n",
    "           input_shape=(50,50,3),\n",
    "          )\n",
    ")\n",
    "\n",
    "model.add(MaxPooling2D(pool_size=(2,2)))\n",
    "\n",
    "model.add(\n",
    "     Conv2D(filters=5, \n",
    "            kernel_size=(2,2), \n",
    "            activation='relu', \n",
    "            padding='same',\n",
    "           )\n",
    ")\n",
    "\n",
    "model.add(MaxPooling2D(pool_size=(2,2)))\n",
    "\n",
    "model.add(Flatten())\n",
    "\n",
    "model.add(Dropout(rate=0.5))\n",
    "\n",
    "model.add(Dense(512, activation='relu'))\n",
    "\n",
    "model.add(Dense(len(selected_chars), activation='softmax'))\n"
   ]
  },
  {
   "cell_type": "code",
   "execution_count": 79,
   "id": "7960b281-02b9-4e5e-b6a0-11595379d645",
   "metadata": {},
   "outputs": [
    {
     "name": "stdout",
     "output_type": "stream",
     "text": [
      "Model: \"sequential_1\"\n",
      "_________________________________________________________________\n",
      "Layer (type)                 Output Shape              Param #   \n",
      "=================================================================\n",
      "conv2d_2 (Conv2D)            (None, 50, 50, 5)         65        \n",
      "_________________________________________________________________\n",
      "max_pooling2d_2 (MaxPooling2 (None, 25, 25, 5)         0         \n",
      "_________________________________________________________________\n",
      "conv2d_3 (Conv2D)            (None, 25, 25, 5)         105       \n",
      "_________________________________________________________________\n",
      "max_pooling2d_3 (MaxPooling2 (None, 12, 12, 5)         0         \n",
      "_________________________________________________________________\n",
      "flatten_1 (Flatten)          (None, 720)               0         \n",
      "_________________________________________________________________\n",
      "dropout_1 (Dropout)          (None, 720)               0         \n",
      "_________________________________________________________________\n",
      "dense_2 (Dense)              (None, 512)               369152    \n",
      "_________________________________________________________________\n",
      "dense_3 (Dense)              (None, 4)                 2052      \n",
      "=================================================================\n",
      "Total params: 371,374\n",
      "Trainable params: 371,374\n",
      "Non-trainable params: 0\n",
      "_________________________________________________________________\n"
     ]
    }
   ],
   "source": [
    "model.summary()"
   ]
  },
  {
   "cell_type": "code",
   "execution_count": 80,
   "id": "14e554c4-e227-494b-bd80-000f1fdacc4c",
   "metadata": {},
   "outputs": [],
   "source": [
    "model.compile(optimizer = 'adam', loss = 'categorical_crossentropy', metrics = ['accuracy'])"
   ]
  },
  {
   "cell_type": "code",
   "execution_count": 81,
   "id": "76042f33-3f3a-47f1-9775-39d14eecb5da",
   "metadata": {},
   "outputs": [
    {
     "name": "stdout",
     "output_type": "stream",
     "text": [
      "Epoch 1/50\n",
      "21/21 [==============================] - 1s 18ms/step - loss: 1.4664 - accuracy: 0.3057 - val_loss: 1.2585 - val_accuracy: 0.2500\n",
      "Epoch 2/50\n",
      "21/21 [==============================] - 0s 9ms/step - loss: 1.2175 - accuracy: 0.4059 - val_loss: 1.0359 - val_accuracy: 0.5250\n",
      "Epoch 3/50\n",
      "21/21 [==============================] - 0s 9ms/step - loss: 1.0207 - accuracy: 0.5710 - val_loss: 0.8183 - val_accuracy: 0.7000\n",
      "Epoch 4/50\n",
      "21/21 [==============================] - 0s 8ms/step - loss: 0.8526 - accuracy: 0.6522 - val_loss: 0.6472 - val_accuracy: 0.7750\n",
      "Epoch 5/50\n",
      "21/21 [==============================] - 0s 8ms/step - loss: 0.7330 - accuracy: 0.7086 - val_loss: 0.5452 - val_accuracy: 0.8250\n",
      "Epoch 6/50\n",
      "21/21 [==============================] - 0s 9ms/step - loss: 0.6101 - accuracy: 0.7885 - val_loss: 0.4831 - val_accuracy: 0.8000\n",
      "Epoch 7/50\n",
      "21/21 [==============================] - 0s 8ms/step - loss: 0.5122 - accuracy: 0.7871 - val_loss: 0.4746 - val_accuracy: 0.7750\n",
      "Epoch 8/50\n",
      "21/21 [==============================] - 0s 8ms/step - loss: 0.6732 - accuracy: 0.7024 - val_loss: 0.3261 - val_accuracy: 0.9250\n",
      "Epoch 9/50\n",
      "21/21 [==============================] - 0s 8ms/step - loss: 0.4580 - accuracy: 0.8185 - val_loss: 0.2941 - val_accuracy: 0.9000\n",
      "Epoch 10/50\n",
      "21/21 [==============================] - 0s 8ms/step - loss: 0.3547 - accuracy: 0.8525 - val_loss: 0.4618 - val_accuracy: 0.8250\n",
      "Epoch 11/50\n",
      "21/21 [==============================] - 0s 8ms/step - loss: 0.5106 - accuracy: 0.8135 - val_loss: 0.2696 - val_accuracy: 0.9250\n",
      "Epoch 12/50\n",
      "21/21 [==============================] - 0s 9ms/step - loss: 0.4745 - accuracy: 0.8233 - val_loss: 0.3917 - val_accuracy: 0.8500\n",
      "Epoch 13/50\n",
      "21/21 [==============================] - 0s 9ms/step - loss: 0.4633 - accuracy: 0.8438 - val_loss: 0.2886 - val_accuracy: 0.8750\n",
      "Epoch 14/50\n",
      "21/21 [==============================] - 0s 9ms/step - loss: 0.4588 - accuracy: 0.7921 - val_loss: 0.2659 - val_accuracy: 0.9250\n",
      "Epoch 15/50\n",
      "21/21 [==============================] - 0s 9ms/step - loss: 0.4861 - accuracy: 0.7708 - val_loss: 0.2124 - val_accuracy: 0.9250\n",
      "Epoch 16/50\n",
      "21/21 [==============================] - 0s 9ms/step - loss: 0.3305 - accuracy: 0.8571 - val_loss: 0.2407 - val_accuracy: 0.9500\n",
      "Epoch 17/50\n",
      "21/21 [==============================] - 0s 9ms/step - loss: 0.3503 - accuracy: 0.8419 - val_loss: 0.2101 - val_accuracy: 0.9500\n",
      "Epoch 18/50\n",
      "21/21 [==============================] - 0s 9ms/step - loss: 0.3405 - accuracy: 0.8840 - val_loss: 0.3008 - val_accuracy: 0.9000\n",
      "Epoch 19/50\n",
      "21/21 [==============================] - 0s 9ms/step - loss: 0.3931 - accuracy: 0.8704 - val_loss: 0.1812 - val_accuracy: 0.9250\n",
      "Epoch 20/50\n",
      "21/21 [==============================] - 0s 9ms/step - loss: 0.3285 - accuracy: 0.8396 - val_loss: 0.2109 - val_accuracy: 0.9500\n",
      "Epoch 21/50\n",
      "21/21 [==============================] - 0s 9ms/step - loss: 0.2478 - accuracy: 0.9182 - val_loss: 0.2975 - val_accuracy: 0.9500\n",
      "Epoch 22/50\n",
      "21/21 [==============================] - 0s 9ms/step - loss: 0.3530 - accuracy: 0.8836 - val_loss: 0.2427 - val_accuracy: 0.9500\n",
      "Epoch 23/50\n",
      "21/21 [==============================] - 0s 9ms/step - loss: 0.3164 - accuracy: 0.8780 - val_loss: 0.2318 - val_accuracy: 0.9000\n",
      "Epoch 24/50\n",
      "21/21 [==============================] - 0s 8ms/step - loss: 0.4075 - accuracy: 0.8453 - val_loss: 0.2118 - val_accuracy: 0.9250\n",
      "Epoch 25/50\n",
      "21/21 [==============================] - 0s 9ms/step - loss: 0.5369 - accuracy: 0.7893 - val_loss: 0.4115 - val_accuracy: 0.8750\n",
      "Epoch 26/50\n",
      "21/21 [==============================] - 0s 9ms/step - loss: 0.3604 - accuracy: 0.8575 - val_loss: 0.2563 - val_accuracy: 0.9250\n",
      "Epoch 27/50\n",
      "21/21 [==============================] - 0s 8ms/step - loss: 0.3793 - accuracy: 0.8483 - val_loss: 0.2170 - val_accuracy: 0.9250\n",
      "Epoch 28/50\n",
      "21/21 [==============================] - 0s 9ms/step - loss: 0.2319 - accuracy: 0.9230 - val_loss: 0.2612 - val_accuracy: 0.9250\n",
      "Epoch 29/50\n",
      "21/21 [==============================] - 0s 9ms/step - loss: 0.3598 - accuracy: 0.8660 - val_loss: 0.2217 - val_accuracy: 0.9500\n",
      "Epoch 30/50\n",
      "21/21 [==============================] - 0s 9ms/step - loss: 0.3061 - accuracy: 0.8843 - val_loss: 0.3917 - val_accuracy: 0.9000\n",
      "Epoch 31/50\n",
      "21/21 [==============================] - 0s 8ms/step - loss: 0.3900 - accuracy: 0.8254 - val_loss: 0.3562 - val_accuracy: 0.9000\n",
      "Epoch 32/50\n",
      "21/21 [==============================] - 0s 9ms/step - loss: 0.2892 - accuracy: 0.8680 - val_loss: 0.2147 - val_accuracy: 0.9250\n",
      "Epoch 33/50\n",
      "21/21 [==============================] - 0s 10ms/step - loss: 0.2499 - accuracy: 0.9006 - val_loss: 0.1692 - val_accuracy: 0.9250\n",
      "Epoch 34/50\n",
      "21/21 [==============================] - 0s 9ms/step - loss: 0.2250 - accuracy: 0.9303 - val_loss: 0.4309 - val_accuracy: 0.9000\n",
      "Epoch 35/50\n",
      "21/21 [==============================] - 0s 9ms/step - loss: 0.4534 - accuracy: 0.8611 - val_loss: 0.1712 - val_accuracy: 0.9500\n",
      "Epoch 36/50\n",
      "21/21 [==============================] - 0s 9ms/step - loss: 0.3155 - accuracy: 0.8941 - val_loss: 0.3305 - val_accuracy: 0.9000\n",
      "Epoch 37/50\n",
      "21/21 [==============================] - 0s 8ms/step - loss: 0.2991 - accuracy: 0.8614 - val_loss: 0.2372 - val_accuracy: 0.9250\n",
      "Epoch 38/50\n",
      "21/21 [==============================] - 0s 9ms/step - loss: 0.2859 - accuracy: 0.9278 - val_loss: 0.2938 - val_accuracy: 0.9000\n",
      "Epoch 39/50\n",
      "21/21 [==============================] - 0s 8ms/step - loss: 0.2882 - accuracy: 0.8925 - val_loss: 0.3010 - val_accuracy: 0.9250\n",
      "Epoch 40/50\n",
      "21/21 [==============================] - 0s 9ms/step - loss: 0.3822 - accuracy: 0.8278 - val_loss: 0.2229 - val_accuracy: 0.9000\n",
      "Epoch 41/50\n",
      "21/21 [==============================] - 0s 9ms/step - loss: 0.2816 - accuracy: 0.9004 - val_loss: 0.2653 - val_accuracy: 0.9250\n",
      "Epoch 42/50\n",
      "21/21 [==============================] - 0s 8ms/step - loss: 0.2643 - accuracy: 0.8954 - val_loss: 0.2951 - val_accuracy: 0.9250\n",
      "Epoch 43/50\n",
      "21/21 [==============================] - 0s 9ms/step - loss: 0.3007 - accuracy: 0.8642 - val_loss: 0.2815 - val_accuracy: 0.8500\n",
      "Epoch 44/50\n",
      "21/21 [==============================] - 0s 8ms/step - loss: 0.2565 - accuracy: 0.9248 - val_loss: 0.2104 - val_accuracy: 0.9250\n",
      "Epoch 45/50\n",
      "21/21 [==============================] - 0s 9ms/step - loss: 0.2685 - accuracy: 0.8982 - val_loss: 0.2059 - val_accuracy: 0.9250\n",
      "Epoch 46/50\n",
      "21/21 [==============================] - 0s 9ms/step - loss: 0.2392 - accuracy: 0.8889 - val_loss: 0.2538 - val_accuracy: 0.9250\n",
      "Epoch 47/50\n",
      "21/21 [==============================] - 0s 8ms/step - loss: 0.3342 - accuracy: 0.8885 - val_loss: 0.2271 - val_accuracy: 0.9000\n",
      "Epoch 48/50\n",
      "21/21 [==============================] - 0s 9ms/step - loss: 0.2108 - accuracy: 0.9171 - val_loss: 0.2675 - val_accuracy: 0.9000\n",
      "Epoch 49/50\n",
      "21/21 [==============================] - 0s 9ms/step - loss: 0.2628 - accuracy: 0.8933 - val_loss: 0.2539 - val_accuracy: 0.9000\n",
      "Epoch 50/50\n",
      "21/21 [==============================] - 0s 9ms/step - loss: 0.3382 - accuracy: 0.8872 - val_loss: 0.3249 - val_accuracy: 0.9250\n"
     ]
    }
   ],
   "source": [
    "history = model.fit(train_gen, validation_data=test_gen, epochs=50)"
   ]
  },
  {
   "cell_type": "code",
   "execution_count": 82,
   "id": "fdbd20ef-72dd-45da-a3fb-66e64f1b3e0d",
   "metadata": {},
   "outputs": [],
   "source": [
    "os.chdir(training_data_path)\n",
    "model.save('CNN_model_xwzj.h5')"
   ]
  },
  {
   "cell_type": "code",
   "execution_count": null,
   "id": "564d349b-7ade-43c4-a036-8429e2392335",
   "metadata": {},
   "outputs": [],
   "source": []
  },
  {
   "cell_type": "code",
   "execution_count": null,
   "id": "ff94e79f-4557-4e36-b0fd-6c931015b9f4",
   "metadata": {},
   "outputs": [],
   "source": []
  },
  {
   "cell_type": "code",
   "execution_count": null,
   "id": "30584a55-491c-4b46-99bd-3e3c13f6cfd3",
   "metadata": {},
   "outputs": [],
   "source": []
  },
  {
   "cell_type": "code",
   "execution_count": 22,
   "id": "a0a9e712-67fc-4419-9bf1-f29c93af57be",
   "metadata": {},
   "outputs": [
    {
     "name": "stderr",
     "output_type": "stream",
     "text": [
      "WARNING:root:scikit-learn version 1.0.2 is not supported. Minimum required version: 0.17. Maximum required version: 0.19.2. Disabling scikit-learn conversion API.\n",
      "2022-06-09 16:31:23.349657: I tensorflow/core/grappler/devices.cc:78] Number of eligible GPUs (core count >= 8, compute capability >= 0.0): 0 (Note: TensorFlow was not compiled with CUDA or ROCm support)\n",
      "2022-06-09 16:31:23.350859: I tensorflow/core/grappler/clusters/single_machine.cc:356] Starting new session\n",
      "2022-06-09 16:31:23.355101: I tensorflow/core/grappler/optimizers/meta_optimizer.cc:928] Optimization results for grappler item: graph_to_optimize\n",
      "  function_optimizer: function_optimizer did nothing. time = 0.002ms.\n",
      "  function_optimizer: function_optimizer did nothing. time = 0.002ms.\n",
      "\n",
      "2022-06-09 16:31:23.378007: I tensorflow/core/grappler/devices.cc:78] Number of eligible GPUs (core count >= 8, compute capability >= 0.0): 0 (Note: TensorFlow was not compiled with CUDA or ROCm support)\n",
      "2022-06-09 16:31:23.378241: I tensorflow/core/grappler/clusters/single_machine.cc:356] Starting new session\n",
      "2022-06-09 16:31:23.396712: I tensorflow/core/grappler/optimizers/meta_optimizer.cc:928] Optimization results for grappler item: graph_to_optimize\n",
      "  constant_folding: Graph size after: 27 nodes (-8), 34 edges (-8), time = 13.362ms.\n",
      "  dependency_optimizer: Graph size after: 26 nodes (-1), 25 edges (-9), time = 0.79ms.\n",
      "  debug_stripper: debug_stripper did nothing. time = 0.024ms.\n",
      "  constant_folding: Graph size after: 26 nodes (0), 25 edges (0), time = 0.667ms.\n",
      "  dependency_optimizer: Graph size after: 26 nodes (0), 25 edges (0), time = 0.213ms.\n",
      "  debug_stripper: debug_stripper did nothing. time = 0.02ms.\n",
      "\n",
      "2022-06-09 16:31:23.409328: I tensorflow/core/grappler/devices.cc:78] Number of eligible GPUs (core count >= 8, compute capability >= 0.0): 0 (Note: TensorFlow was not compiled with CUDA or ROCm support)\n",
      "2022-06-09 16:31:23.409610: I tensorflow/core/grappler/clusters/single_machine.cc:356] Starting new session\n",
      "2022-06-09 16:31:23.410818: I tensorflow/core/grappler/optimizers/meta_optimizer.cc:928] Optimization results for grappler item: graph_to_optimize\n",
      "  function_optimizer: function_optimizer did nothing. time = 0.002ms.\n",
      "  function_optimizer: function_optimizer did nothing. time = 0ms.\n",
      "\n",
      "2022-06-09 16:31:23.433844: I tensorflow/core/grappler/devices.cc:78] Number of eligible GPUs (core count >= 8, compute capability >= 0.0): 0 (Note: TensorFlow was not compiled with CUDA or ROCm support)\n",
      "2022-06-09 16:31:23.434740: I tensorflow/core/grappler/clusters/single_machine.cc:356] Starting new session\n",
      "2022-06-09 16:31:23.445482: I tensorflow/core/grappler/optimizers/meta_optimizer.cc:928] Optimization results for grappler item: graph_to_optimize\n",
      "  constant_folding: Graph size after: 27 nodes (-8), 34 edges (-8), time = 5.536ms.\n",
      "  dependency_optimizer: Graph size after: 26 nodes (-1), 25 edges (-9), time = 0.255ms.\n",
      "  debug_stripper: debug_stripper did nothing. time = 0.018ms.\n",
      "  constant_folding: Graph size after: 26 nodes (0), 25 edges (0), time = 0.659ms.\n",
      "  dependency_optimizer: Graph size after: 26 nodes (0), 25 edges (0), time = 0.199ms.\n",
      "  debug_stripper: debug_stripper did nothing. time = 0.013ms.\n",
      "\n",
      "Running TensorFlow Graph Passes:   0%|               | 0/6 [00:00<?, ? passes/s]2022-06-09 16:31:23.632596: I tensorflow/compiler/mlir/mlir_graph_optimization_pass.cc:196] None of the MLIR optimization passes are enabled (registered 0 passes)\n",
      "Running TensorFlow Graph Passes: 100%|███████| 6/6 [00:00<00:00, 78.58 passes/s]\n",
      "Converting Frontend ==> MIL Ops: 100%|███████| 26/26 [00:00<00:00, 666.74 ops/s]\n",
      "Running MIL Common passes: 100%|█████████| 34/34 [00:00<00:00, 1589.83 passes/s]\n",
      "Running MIL Clean up passes: 100%|██████████| 9/9 [00:00<00:00, 939.35 passes/s]\n",
      "Translating MIL ==> NeuralNetwork Ops: 100%|█| 43/43 [00:00<00:00, 1574.70 ops/s\n"
     ]
    }
   ],
   "source": [
    "import coremltools as ct\n",
    "coreml_model = ct.convert(model, inputs=[ct.ImageType(scale=1./255)])\n",
    "os.chdir(training_data_path)\n",
    "coreml_model.save('my_model.mlmodel')"
   ]
  },
  {
   "cell_type": "code",
   "execution_count": 83,
   "id": "66b329b9-0272-40a2-86a7-80f90311387e",
   "metadata": {},
   "outputs": [
    {
     "data": {
      "text/plain": [
       "<tensorflow.python.keras.engine.sequential.Sequential at 0x7fb1d0d8e7f0>"
      ]
     },
     "execution_count": 83,
     "metadata": {},
     "output_type": "execute_result"
    }
   ],
   "source": [
    "model"
   ]
  },
  {
   "cell_type": "code",
   "execution_count": 84,
   "id": "6d1ced8b-d8f6-4e6b-a32b-dd22ced2c462",
   "metadata": {},
   "outputs": [
    {
     "data": {
      "text/plain": [
       "array([0, 0, 0, 0, 0, 0, 0, 0, 0, 0, 1, 1, 1, 1, 1, 1, 1, 1, 1, 1, 2, 2,\n",
       "       2, 2, 2, 2, 2, 2, 2, 2, 3, 3, 3, 3, 3, 3, 3, 3, 3, 3], dtype=int32)"
      ]
     },
     "execution_count": 84,
     "metadata": {},
     "output_type": "execute_result"
    }
   ],
   "source": [
    "test_gen.classes"
   ]
  },
  {
   "cell_type": "code",
   "execution_count": 85,
   "id": "8e447eec-935d-4c8c-bac1-c2ba07f75b0c",
   "metadata": {},
   "outputs": [
    {
     "data": {
      "text/plain": [
       "array([0, 0, 0, 0, 0, 0, 0, 0, 0, 0, 1, 1, 1, 1, 1, 1, 1, 1, 1, 1, 2, 2,\n",
       "       2, 2, 2, 2, 2, 2, 2, 2, 3, 3, 3, 3, 3, 3, 3, 3, 3, 3], dtype=int32)"
      ]
     },
     "execution_count": 85,
     "metadata": {},
     "output_type": "execute_result"
    }
   ],
   "source": [
    "test_gen.labels"
   ]
  },
  {
   "cell_type": "code",
   "execution_count": 86,
   "id": "4a3b34b9-da4f-4b87-b477-540efcc96db4",
   "metadata": {},
   "outputs": [
    {
     "data": {
      "text/plain": [
       "{'境': 0, '學': 1, '止': 2, '無': 3}"
      ]
     },
     "execution_count": 86,
     "metadata": {},
     "output_type": "execute_result"
    }
   ],
   "source": [
    "test_gen.class_indices"
   ]
  },
  {
   "cell_type": "code",
   "execution_count": 87,
   "id": "11822df9-3b69-4c84-a549-1438ffb1219d",
   "metadata": {},
   "outputs": [
    {
     "data": {
      "text/plain": [
       "{'境': 0, '學': 1, '止': 2, '無': 3}"
      ]
     },
     "execution_count": 87,
     "metadata": {},
     "output_type": "execute_result"
    }
   ],
   "source": [
    "train_gen.class_indices"
   ]
  },
  {
   "cell_type": "code",
   "execution_count": 88,
   "id": "789d5922-a74a-42fc-8d19-e3e08a283cd8",
   "metadata": {},
   "outputs": [
    {
     "data": {
      "text/plain": [
       "tensorflow.python.keras.preprocessing.image.DirectoryIterator"
      ]
     },
     "execution_count": 88,
     "metadata": {},
     "output_type": "execute_result"
    }
   ],
   "source": [
    "type(train_gen)"
   ]
  },
  {
   "cell_type": "code",
   "execution_count": 89,
   "id": "b03489f5-fe69-4413-aa71-779ea9c948bd",
   "metadata": {},
   "outputs": [
    {
     "data": {
      "text/plain": [
       "array([0, 0, 0, 0, 0, 0, 0, 0, 0, 0, 0, 0, 0, 0, 0, 0, 0, 0, 0, 0, 0, 0,\n",
       "       0, 0, 0, 0, 0, 0, 0, 0, 0, 0, 0, 0, 0, 0, 0, 0, 0, 0, 1, 1, 1, 1,\n",
       "       1, 1, 1, 1, 1, 1, 1, 1, 1, 1, 1, 1, 1, 1, 1, 1, 1, 1, 1, 1, 1, 1,\n",
       "       1, 1, 1, 1, 1, 1, 1, 1, 1, 1, 1, 1, 1, 1, 2, 2, 2, 2, 2, 2, 2, 2,\n",
       "       2, 2, 2, 2, 2, 2, 2, 2, 2, 2, 2, 2, 2, 2, 2, 2, 2, 2, 2, 2, 2, 2,\n",
       "       2, 2, 2, 2, 2, 2, 2, 2, 2, 2, 2, 2, 3, 3, 3, 3, 3, 3, 3, 3, 3, 3,\n",
       "       3, 3, 3, 3, 3, 3, 3, 3, 3, 3, 3, 3, 3, 3, 3, 3, 3, 3, 3, 3, 3, 3,\n",
       "       3, 3, 3, 3, 3, 3, 3, 3, 3], dtype=int32)"
      ]
     },
     "execution_count": 89,
     "metadata": {},
     "output_type": "execute_result"
    }
   ],
   "source": [
    "train_gen.classes"
   ]
  },
  {
   "cell_type": "code",
   "execution_count": 90,
   "id": "1a242cda-c749-4365-b3f4-2ce421200cf9",
   "metadata": {},
   "outputs": [],
   "source": [
    "preds = model.predict(test_gen)"
   ]
  },
  {
   "cell_type": "code",
   "execution_count": 91,
   "id": "6a79382b-5ab0-4ab8-9de7-e96b248efae3",
   "metadata": {},
   "outputs": [
    {
     "name": "stderr",
     "output_type": "stream",
     "text": [
      "/Users/derryzrli/opt/anaconda3/envs/tfm1/lib/python3.9/site-packages/tensorflow/python/keras/engine/sequential.py:450: UserWarning: `model.predict_classes()` is deprecated and will be removed after 2021-01-01. Please use instead:* `np.argmax(model.predict(x), axis=-1)`,   if your model does multi-class classification   (e.g. if it uses a `softmax` last-layer activation).* `(model.predict(x) > 0.5).astype(\"int32\")`,   if your model does binary classification   (e.g. if it uses a `sigmoid` last-layer activation).\n",
      "  warnings.warn('`model.predict_classes()` is deprecated and '\n"
     ]
    },
    {
     "data": {
      "text/plain": [
       "array([2, 1, 1, 0, 1, 3, 2, 2, 1, 3, 1, 2, 3, 0, 1, 3, 0, 1, 2, 1, 0, 0,\n",
       "       0, 1, 0, 2, 2, 2, 1, 2, 3, 1, 0, 0, 1, 0, 1, 3, 3, 2])"
      ]
     },
     "execution_count": 91,
     "metadata": {},
     "output_type": "execute_result"
    }
   ],
   "source": [
    "model.predict_classes(test_gen)"
   ]
  },
  {
   "cell_type": "code",
   "execution_count": 92,
   "id": "8f4fae30-0761-4a24-b88b-4b7d045fcadf",
   "metadata": {},
   "outputs": [
    {
     "data": {
      "text/plain": [
       "array([[0.9, 0. , 0. , 0.1],\n",
       "       [0.9, 0. , 0. , 0. ],\n",
       "       [0. , 0. , 1. , 0. ],\n",
       "       [0. , 0.9, 0. , 0.1],\n",
       "       [0. , 0. , 1. , 0. ],\n",
       "       [1. , 0. , 0. , 0. ],\n",
       "       [0.1, 0.1, 0. , 0.8],\n",
       "       [0. , 1. , 0. , 0. ],\n",
       "       [0. , 0. , 0. , 1. ],\n",
       "       [0.9, 0.1, 0. , 0. ],\n",
       "       [0. , 1. , 0. , 0. ],\n",
       "       [0. , 0.1, 0. , 0.9],\n",
       "       [0. , 0. , 0.9, 0.1],\n",
       "       [0. , 0. , 1. , 0. ],\n",
       "       [0. , 0. , 1. , 0. ],\n",
       "       [0. , 1. , 0. , 0. ],\n",
       "       [0. , 1. , 0. , 0. ],\n",
       "       [0. , 1. , 0. , 0. ],\n",
       "       [1. , 0. , 0. , 0. ],\n",
       "       [0. , 1. , 0. , 0. ],\n",
       "       [0.1, 0.8, 0. , 0. ],\n",
       "       [0.4, 0.3, 0. , 0.3],\n",
       "       [0. , 1. , 0. , 0. ],\n",
       "       [0.7, 0.1, 0. , 0.2],\n",
       "       [0.7, 0.2, 0. , 0.1],\n",
       "       [0.8, 0.1, 0. , 0.1],\n",
       "       [0. , 0.4, 0. , 0.6],\n",
       "       [0. , 1. , 0. , 0. ],\n",
       "       [0. , 0. , 1. , 0. ],\n",
       "       [0. , 0.1, 0. , 0.9],\n",
       "       [0. , 1. , 0. , 0. ],\n",
       "       [1. , 0. , 0. , 0. ],\n",
       "       [0. , 0. , 0.9, 0.1],\n",
       "       [0. , 0.1, 0. , 0.9],\n",
       "       [0. , 0. , 1. , 0. ],\n",
       "       [0. , 1. , 0. , 0. ],\n",
       "       [0. , 0. , 1. , 0. ],\n",
       "       [0. , 0.1, 0. , 0.9],\n",
       "       [0. , 1. , 0. , 0. ],\n",
       "       [0. , 0. , 1. , 0. ]], dtype=float32)"
      ]
     },
     "execution_count": 92,
     "metadata": {},
     "output_type": "execute_result"
    }
   ],
   "source": [
    "preds.round(1)"
   ]
  },
  {
   "cell_type": "code",
   "execution_count": null,
   "id": "027a5816-78f2-406a-abb0-b9db7e0629a7",
   "metadata": {},
   "outputs": [],
   "source": []
  },
  {
   "cell_type": "code",
   "execution_count": null,
   "id": "dcffc0c6-07c0-4365-97b7-bac9d360ee57",
   "metadata": {},
   "outputs": [],
   "source": []
  },
  {
   "cell_type": "code",
   "execution_count": null,
   "id": "60d7c7ca-343e-4dd0-b5cd-43e8a8d09c7f",
   "metadata": {},
   "outputs": [],
   "source": []
  },
  {
   "cell_type": "code",
   "execution_count": null,
   "id": "35b403e9-672f-4680-b43a-7f9b7af31bfd",
   "metadata": {},
   "outputs": [],
   "source": []
  },
  {
   "cell_type": "code",
   "execution_count": null,
   "id": "14bb2a73-dafa-4b0b-9731-03b7c4754dec",
   "metadata": {},
   "outputs": [],
   "source": []
  }
 ],
 "metadata": {
  "kernelspec": {
   "display_name": "Python 3 (ipykernel)",
   "language": "python",
   "name": "python3"
  },
  "language_info": {
   "codemirror_mode": {
    "name": "ipython",
    "version": 3
   },
   "file_extension": ".py",
   "mimetype": "text/x-python",
   "name": "python",
   "nbconvert_exporter": "python",
   "pygments_lexer": "ipython3",
   "version": "3.9.12"
  }
 },
 "nbformat": 4,
 "nbformat_minor": 5
}
