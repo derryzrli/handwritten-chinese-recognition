{
 "cells": [
  {
   "cell_type": "markdown",
   "id": "6f22d269-e69f-4e1c-94bd-be65a86a6628",
   "metadata": {},
   "source": [
    "## File re-organization for model need"
   ]
  },
  {
   "cell_type": "code",
   "execution_count": 1,
   "id": "31cf32a8-59a5-407d-82f9-5a6d16d1ec55",
   "metadata": {},
   "outputs": [],
   "source": [
    "import os\n",
    "import shutil"
   ]
  },
  {
   "cell_type": "code",
   "execution_count": 12,
   "id": "905dd8c8-be1f-4264-a99a-f60b3f030a40",
   "metadata": {},
   "outputs": [],
   "source": [
    "output_folder = 'traditional_chinese_characters_cleaned'\n",
    "drive_path = '/Users/derryzrli/Downloads/data_dsi_capstone/'\n",
    "output_path = drive_path + output_folder"
   ]
  },
  {
   "cell_type": "code",
   "execution_count": 13,
   "id": "12d1e3df-5fdd-49dd-b730-72e07de852d9",
   "metadata": {},
   "outputs": [],
   "source": [
    "if not os.path.exists(output_path):\n",
    "    os.chdir(drive_path) \n",
    "    os.mkdir(output_path)\n",
    "else: \n",
    "    os.chdir(drive_path)"
   ]
  },
  {
   "cell_type": "code",
   "execution_count": 22,
   "id": "3b337f8c-3b2e-40a6-a515-0b0ae76afe7a",
   "metadata": {},
   "outputs": [
    {
     "data": {
      "text/plain": [
       "'/Users/derryzrli/Downloads/data_dsi_capstone/traditional_chinese_characters_cleaned'"
      ]
     },
     "execution_count": 22,
     "metadata": {},
     "output_type": "execute_result"
    }
   ],
   "source": [
    "os.getcwd()"
   ]
  },
  {
   "cell_type": "markdown",
   "id": "eb25d53c-ca7b-446f-832a-553b1def6905",
   "metadata": {},
   "source": [
    "## Combine 4 subfolders into one folder of Chinese character dataset"
   ]
  },
  {
   "cell_type": "code",
   "execution_count": 10,
   "id": "3ab7cd1e-8fe1-410c-92bd-56e7e90acba3",
   "metadata": {
    "tags": []
   },
   "outputs": [],
   "source": [
    "# code block adapted from https://www.geeksforgeeks.org/how-to-merge-multiple-folders-into-one-folder-using-python/\n",
    "\n",
    "# Function to create new folder if not exists\n",
    "def make_new_folder(folder_name, parent_folder):\n",
    "      \n",
    "    # Path\n",
    "    path = os.path.join(parent_folder, folder_name)\n",
    "      \n",
    "    # Create the folder\n",
    "    # 'new_folder' in\n",
    "    # parent_folder\n",
    "    try: \n",
    "        # mode of the folder\n",
    "        mode = 0o777\n",
    "        # Create folder\n",
    "        os.mkdir(path, mode) \n",
    "        \n",
    "    except OSError as error: \n",
    "        print(error)\n",
    "        \n",
    "# current folder path\n",
    "current_folder = os.getcwd() \n",
    "  \n",
    "# list of folders to be merged\n",
    "list_dir = ['cleaned_data(50_50)_1', 'cleaned_data(50_50)_2', 'cleaned_data(50_50)_3', 'cleaned_data(50_50)_4']\n",
    "  \n",
    "# enumerate on list_dir to get the \n",
    "# content of all the folders ans store \n",
    "# it in a dictionary\n",
    "content_list = {}\n",
    "for index, val in enumerate(list_dir):\n",
    "    path = os.path.join(current_folder, val)\n",
    "    content_list[ list_dir[index] ] = os.listdir(path)\n",
    "    \n",
    "# folder in which all the content will\n",
    "# be merged\n",
    "merge_folder = 'traditional_chinese_characters_cleaned'\n",
    "  \n",
    "# merge_folder path - current_folder \n",
    "# + merge_folder\n",
    "merge_folder_path = os.path.join(current_folder, merge_folder) \n",
    "  \n",
    "# create merge_folder if not exists\n",
    "make_new_folder(merge_folder, current_folder)\n",
    "  \n",
    "# loop through the list of folders\n",
    "for sub_dir in content_list:\n",
    "  \n",
    "    # loop through the contents of the \n",
    "    # list of folders\n",
    "    for contents in content_list[sub_dir]:\n",
    "  \n",
    "        # make the path of the content to move \n",
    "        path_to_content = sub_dir + \"/\" + contents  \n",
    "  \n",
    "        # make the path with the current folder\n",
    "        dir_to_move = os.path.join(current_folder, path_to_content )\n",
    "  \n",
    "        # move the file\n",
    "        shutil.move(dir_to_move, merge_folder_path)"
   ]
  },
  {
   "cell_type": "markdown",
   "id": "2eda1775-2f5a-4a07-82d8-658a796822ab",
   "metadata": {},
   "source": [
    "----"
   ]
  },
  {
   "cell_type": "markdown",
   "id": "121b8103-01cb-4aea-a0ae-9d873ee59b4f",
   "metadata": {},
   "source": [
    "####  Rearrange file stucture such that the same characters hand-written different people are grouped by the folder of the character itself"
   ]
  },
  {
   "cell_type": "markdown",
   "id": "52ea3544-317b-45c1-bced-83d87d48e9f2",
   "metadata": {},
   "source": [
    "##### For example: - 愛 (<-- directory) \n",
    "            |-- 愛_011.png \n",
    "            |-- 愛_004.png \n",
    "            |-- 愛_025.png \n",
    "            |-- 愛_037.png \n",
    "                 ..."
   ]
  },
  {
   "cell_type": "code",
   "execution_count": 15,
   "id": "91c08768-eb42-415f-988d-343260f4c787",
   "metadata": {
    "tags": []
   },
   "outputs": [],
   "source": [
    "# code block adpated from \n",
    "# https://github.com/AI-FREE-Team/Traditional-Chinese-Handwriting-Dataset/blob/master/Data_Deployment_local.ipynb\n",
    "\n",
    "images = os.listdir(output_path)\n",
    "\n",
    "char_list = list(set([char.split('_')[0] for char in images]))\n",
    "\n",
    "for char in char_list:\n",
    "    try:\n",
    "        os.chdir(output_path)\n",
    "        os.mkdir(char)\n",
    "        move_list = [img for img in images if char in img]\n",
    "                  \n",
    "    except: \n",
    "        os.chdir(output_path)\n",
    "        move_list = [img for img in images if char in img]\n",
    "    \n",
    "    finally:            \n",
    "        for img in move_list:\n",
    "            old_path = output_path + '/' + img\n",
    "            new_path = output_path + '/' + char + '/' + img\n",
    "            shutil.move( old_path, new_path )"
   ]
  },
  {
   "cell_type": "code",
   "execution_count": null,
   "id": "416499fb-261a-49fb-833c-eef87e0d8af8",
   "metadata": {},
   "outputs": [],
   "source": []
  }
 ],
 "metadata": {
  "kernelspec": {
   "display_name": "Python 3 (ipykernel)",
   "language": "python",
   "name": "python3"
  },
  "language_info": {
   "codemirror_mode": {
    "name": "ipython",
    "version": 3
   },
   "file_extension": ".py",
   "mimetype": "text/x-python",
   "name": "python",
   "nbconvert_exporter": "python",
   "pygments_lexer": "ipython3",
   "version": "3.9.12"
  }
 },
 "nbformat": 4,
 "nbformat_minor": 5
}
