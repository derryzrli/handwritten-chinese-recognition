{
 "cells": [
  {
   "cell_type": "code",
   "execution_count": 3,
   "id": "ebbb6c34-b19f-4615-a432-271d8aad9ee0",
   "metadata": {},
   "outputs": [],
   "source": [
    "import gradio as gr\n",
    "import tensorflow as tf\n",
    "import os"
   ]
  },
  {
   "cell_type": "code",
   "execution_count": 104,
   "id": "56b4a22f-811f-4fa3-8954-30ac4eaebc79",
   "metadata": {},
   "outputs": [],
   "source": [
    "model_url = '/Users/derryzrli/Downloads/data_dsi_capstone/traditional_chinese_training_data/CNN_model_xwzj.h5'"
   ]
  },
  {
   "cell_type": "code",
   "execution_count": 105,
   "id": "0a59be02-322c-463f-afb9-92e92e0c2b1f",
   "metadata": {},
   "outputs": [],
   "source": [
    "model = tf.keras.models.load_model(model_url)"
   ]
  },
  {
   "cell_type": "code",
   "execution_count": null,
   "id": "e9c90a36-618a-46f0-b933-6afc1069d32f",
   "metadata": {},
   "outputs": [],
   "source": []
  },
  {
   "cell_type": "code",
   "execution_count": 106,
   "id": "fc581309-3c21-4a34-87ac-82d0236790d3",
   "metadata": {},
   "outputs": [
    {
     "data": {
      "text/plain": [
       "'/Users/derryzrli/Documents/Documents - Derry’s MacBook Pro/GA_dsi/projects/project-capstone'"
      ]
     },
     "execution_count": 106,
     "metadata": {},
     "output_type": "execute_result"
    }
   ],
   "source": [
    "os.getcwd()"
   ]
  },
  {
   "cell_type": "code",
   "execution_count": null,
   "id": "87bf2b36-22dd-47ef-9f21-e049434f4b56",
   "metadata": {},
   "outputs": [],
   "source": [
    "# preds = model.predict( Test_Generator )"
   ]
  },
  {
   "cell_type": "code",
   "execution_count": 111,
   "id": "a92c3bb1-2e71-40d6-815c-a81daad9618d",
   "metadata": {},
   "outputs": [
    {
     "data": {
      "text/plain": [
       "{0: '境', 1: '學', 2: '止', 3: '無'}"
      ]
     },
     "execution_count": 111,
     "metadata": {},
     "output_type": "execute_result"
    }
   ],
   "source": [
    "class_map = {'境': 0, '學': 1, '止': 2, '無': 3}\n",
    "class_map = {val:key for key, val in class_map.items()}\n",
    "class_map"
   ]
  },
  {
   "cell_type": "code",
   "execution_count": 250,
   "id": "9e418892-7845-4e24-b591-5ddd537fd6a7",
   "metadata": {},
   "outputs": [
    {
     "data": {
      "text/plain": [
       "{'止': 0.9105318784713745, '無': 0.06261314451694489, '境': 0.02430935949087143}"
      ]
     },
     "execution_count": 250,
     "metadata": {},
     "output_type": "execute_result"
    }
   ],
   "source": [
    "from PIL import Image\n",
    "import numpy as np\n",
    "\n",
    "img = Image.open('/Users/derryzrli/Downloads/data_dsi_capstone/traditional_chinese_training_data/止/止_11.png')\n",
    "# .convert('L')\n",
    "# .resize((50, 50), Image.ANTIALIAS)\n",
    "img = np.array(img)/255.\n",
    "\n",
    "img = tf.image.resize(img, [50,50])\n",
    "img = img.numpy()\n",
    "img = img.reshape(1, 50, 50, 3)\n",
    "img.shape\n",
    "\n",
    "# tf.image.grayscale_to_rgb(img)\n",
    "\n",
    "img.shape\n",
    "img = img.reshape(1 ,50, 50, 3) # 1 observation, 50 px high, 50 px wide, 3 depth\n",
    "\n",
    "pred = model.predict(img)\n",
    "# pred = np.argmax(model.predict(img), axis=-1)\n",
    "pred[0]\n",
    "\n",
    "values, indices = tf.math.top_k(pred[0], 3)\n",
    "\n",
    "confidences = {class_map[i.numpy()]: float(v.numpy()) for i, v in zip(indices, values)}\n",
    "confidences\n",
    "\n",
    "# # class_map[pred[0]]\n",
    "\n",
    "# # probs = tf.nn.softmax(pred[0], axis=0)\n",
    "# # probs"
   ]
  },
  {
   "cell_type": "code",
   "execution_count": 249,
   "id": "4e874080-6255-4ee1-b6e1-8e533416b45c",
   "metadata": {},
   "outputs": [
    {
     "data": {
      "text/plain": [
       "[str, str, str]"
      ]
     },
     "execution_count": 249,
     "metadata": {},
     "output_type": "execute_result"
    }
   ],
   "source": [
    "[type(class_map[i.numpy()]) for i in indices]"
   ]
  },
  {
   "cell_type": "code",
   "execution_count": 245,
   "id": "ef2834bf-daf9-46ca-b254-afb267d3495b",
   "metadata": {},
   "outputs": [
    {
     "data": {
      "text/plain": [
       "[numpy.float32, numpy.float32, numpy.float32]"
      ]
     },
     "execution_count": 245,
     "metadata": {},
     "output_type": "execute_result"
    }
   ],
   "source": [
    "[type((v.numpy())) for v in values]"
   ]
  },
  {
   "cell_type": "code",
   "execution_count": 129,
   "id": "5155461a-51e7-48ec-80b6-eac3bca2845a",
   "metadata": {},
   "outputs": [
    {
     "data": {
      "text/plain": [
       "array([0.02430936, 0.00254562, 0.9105319 , 0.06261314], dtype=float32)"
      ]
     },
     "execution_count": 129,
     "metadata": {},
     "output_type": "execute_result"
    }
   ],
   "source": [
    "pred[0]"
   ]
  },
  {
   "cell_type": "code",
   "execution_count": 251,
   "id": "691f72b4-ae68-438c-8645-3fda7beb7a5b",
   "metadata": {},
   "outputs": [],
   "source": [
    "def classify(img):\n",
    "    print(img.shape,'before')\n",
    "    img = img.reshape(28, 28, 1)\n",
    "    x = tf.image.grayscale_to_rgb(tf.convert_to_tensor(img)).numpy()\n",
    "    print(x.shape, 'after colorize')\n",
    "    x = np.array(x)/255.\n",
    "\n",
    "    print(x.shape, 'after1') \n",
    "    x = tf.image.resize(x, [50,50]).numpy()\n",
    "    # print(x)\n",
    "    x = x.reshape(1, 50, 50, 3)\n",
    "    print(x.shape, 'after2')\n",
    "    # x = tf.keras.layers.Reshape((1 ,50, 50, 3)) # 1 observation, 50 px high, 50 px wide, 3 depth\n",
    "    pred = model.predict(x)\n",
    "    print('worked1')\n",
    "    values, indices = tf.math.top_k(pred[0], 3)\n",
    "    print('worked2')\n",
    "    confidences = {class_map[i.numpy()]: float(v.numpy()) for i, v in zip(indices, values)}\n",
    "    print('worked3')\n",
    "    return confidences"
   ]
  },
  {
   "cell_type": "code",
   "execution_count": 253,
   "id": "9520241c-c87e-48d1-a807-f23aadb7d357",
   "metadata": {},
   "outputs": [
    {
     "name": "stderr",
     "output_type": "stream",
     "text": [
      "/Users/derryzrli/opt/anaconda3/envs/tfm1/lib/python3.9/site-packages/gradio/deprecation.py:40: UserWarning: The 'type' parameter has been deprecated. Use the Number component instead.\n",
      "  warnings.warn(value)\n"
     ]
    },
    {
     "name": "stdout",
     "output_type": "stream",
     "text": [
      "Hint: Set streaming=True for Sketchpad component to use live streaming.\n",
      "Running on local URL:  http://127.0.0.1:7893/\n",
      "\n",
      "To create a public link, set `share=True` in `launch()`.\n"
     ]
    },
    {
     "data": {
      "text/html": [
       "<div><iframe src=\"http://127.0.0.1:7893/\" width=\"900\" height=\"500\" allow=\"autoplay; camera; microphone;\" frameborder=\"0\" allowfullscreen></iframe></div>"
      ],
      "text/plain": [
       "<IPython.core.display.HTML object>"
      ]
     },
     "metadata": {},
     "output_type": "display_data"
    },
    {
     "data": {
      "text/plain": [
       "(<gradio.routes.App at 0x7f83ba2b3d00>, 'http://127.0.0.1:7893/', None)"
      ]
     },
     "execution_count": 253,
     "metadata": {},
     "output_type": "execute_result"
    },
    {
     "name": "stderr",
     "output_type": "stream",
     "text": [
      "Exception in callback None(<Task finishe...> result=None>)\n",
      "handle: <Handle>\n",
      "Traceback (most recent call last):\n",
      "  File \"/Users/derryzrli/opt/anaconda3/envs/tfm1/lib/python3.9/asyncio/events.py\", line 80, in _run\n",
      "    self._context.run(self._callback, *self._args)\n",
      "TypeError: 'NoneType' object is not callable\n"
     ]
    },
    {
     "name": "stdout",
     "output_type": "stream",
     "text": [
      "(28, 28) before\n",
      "(28, 28, 3) after colorize\n",
      "(28, 28, 3) after1\n",
      "(1, 50, 50, 3) after2\n",
      "worked1\n",
      "worked2\n",
      "worked3\n",
      "(28, 28) before\n",
      "(28, 28, 3) after colorize\n",
      "(28, 28, 3) after1\n",
      "(1, 50, 50, 3) after2\n",
      "worked1\n",
      "worked2\n",
      "worked3\n",
      "(28, 28) before\n",
      "(28, 28, 3) after colorize\n",
      "(28, 28, 3) after1\n",
      "(1, 50, 50, 3) after2\n",
      "worked1\n",
      "worked2\n",
      "worked3\n",
      "(28, 28) before\n",
      "(28, 28, 3) after colorize\n",
      "(28, 28, 3) after1\n",
      "(1, 50, 50, 3) after2\n",
      "worked1\n",
      "worked2\n",
      "worked3\n",
      "(28, 28) before\n",
      "(28, 28, 3) after colorize\n",
      "(28, 28, 3) after1\n",
      "(1, 50, 50, 3) after2\n",
      "worked1\n",
      "worked2\n",
      "worked3\n",
      "(28, 28) before\n",
      "(28, 28, 3) after colorize\n",
      "(28, 28, 3) after1\n",
      "(1, 50, 50, 3) after2\n",
      "worked1\n",
      "worked2\n",
      "worked3\n",
      "(28, 28) before\n",
      "(28, 28, 3) after colorize\n",
      "(28, 28, 3) after1\n",
      "(1, 50, 50, 3) after2\n",
      "worked1\n",
      "worked2\n",
      "worked3\n",
      "(28, 28) before\n",
      "(28, 28, 3) after colorize\n",
      "(28, 28, 3) after1\n",
      "(1, 50, 50, 3) after2\n",
      "worked1\n",
      "worked2\n",
      "worked3\n",
      "(28, 28) before\n",
      "(28, 28, 3) after colorize\n",
      "(28, 28, 3) after1\n",
      "(1, 50, 50, 3) after2\n",
      "worked1\n",
      "worked2\n",
      "worked3\n",
      "(28, 28) before\n",
      "(28, 28, 3) after colorize\n",
      "(28, 28, 3) after1\n",
      "(1, 50, 50, 3) after2\n",
      "worked1\n",
      "worked2\n",
      "worked3\n",
      "(28, 28) before\n",
      "(28, 28, 3) after colorize\n",
      "(28, 28, 3) after1\n",
      "(1, 50, 50, 3) after2\n",
      "worked1\n",
      "worked2\n",
      "worked3\n",
      "(28, 28) before\n",
      "(28, 28, 3) after colorize\n",
      "(28, 28, 3) after1\n",
      "(1, 50, 50, 3) after2\n",
      "worked1\n",
      "worked2\n",
      "worked3\n",
      "(28, 28) before\n",
      "(28, 28, 3) after colorize\n",
      "(28, 28, 3) after1\n",
      "(1, 50, 50, 3) after2\n",
      "worked1\n",
      "worked2\n",
      "worked3\n",
      "(28, 28) before\n",
      "(28, 28, 3) after colorize\n",
      "(28, 28, 3) after1\n",
      "(1, 50, 50, 3) after2\n",
      "worked1\n",
      "worked2\n",
      "worked3\n",
      "(28, 28) before\n",
      "(28, 28, 3) after colorize\n",
      "(28, 28, 3) after1\n",
      "(1, 50, 50, 3) after2\n",
      "worked1\n",
      "worked2\n",
      "worked3\n",
      "(28, 28) before\n",
      "(28, 28, 3) after colorize\n",
      "(28, 28, 3) after1\n",
      "(1, 50, 50, 3) after2\n",
      "worked1\n",
      "worked2\n",
      "worked3\n",
      "(28, 28) before\n",
      "(28, 28, 3) after colorize\n",
      "(28, 28, 3) after1\n",
      "(1, 50, 50, 3) after2\n",
      "worked1\n",
      "worked2\n",
      "worked3\n",
      "(28, 28) before\n",
      "(28, 28, 3) after colorize\n",
      "(28, 28, 3) after1\n",
      "(1, 50, 50, 3) after2\n",
      "worked1\n",
      "worked2\n",
      "worked3\n",
      "(28, 28) before\n",
      "(28, 28, 3) after colorize\n",
      "(28, 28, 3) after1\n",
      "(1, 50, 50, 3) after2\n",
      "worked1\n",
      "worked2\n",
      "worked3\n",
      "(28, 28) before\n",
      "(28, 28, 3) after colorize\n",
      "(28, 28, 3) after1\n",
      "(1, 50, 50, 3) after2\n",
      "worked1\n",
      "worked2\n",
      "worked3\n",
      "(28, 28) before\n",
      "(28, 28, 3) after colorize\n",
      "(28, 28, 3) after1\n",
      "(1, 50, 50, 3) after2\n",
      "worked1\n",
      "worked2\n",
      "worked3\n",
      "(28, 28) before\n",
      "(28, 28, 3) after colorize\n",
      "(28, 28, 3) after1\n",
      "(1, 50, 50, 3) after2\n",
      "worked1\n",
      "worked2\n",
      "worked3\n",
      "(28, 28) before\n",
      "(28, 28, 3) after colorize\n",
      "(28, 28, 3) after1\n",
      "(1, 50, 50, 3) after2\n",
      "worked1\n",
      "worked2\n",
      "worked3\n",
      "(28, 28) before\n",
      "(28, 28, 3) after colorize\n",
      "(28, 28, 3) after1\n",
      "(1, 50, 50, 3) after2\n",
      "worked1\n",
      "worked2\n",
      "worked3\n",
      "(28, 28) before\n",
      "(28, 28, 3) after colorize\n",
      "(28, 28, 3) after1\n",
      "(1, 50, 50, 3) after2\n",
      "worked1\n",
      "worked2\n",
      "worked3\n",
      "(28, 28) before\n",
      "(28, 28, 3) after colorize\n",
      "(28, 28, 3) after1\n",
      "(1, 50, 50, 3) after2\n",
      "worked1\n",
      "worked2\n",
      "worked3\n",
      "(28, 28) before\n",
      "(28, 28, 3) after colorize\n",
      "(28, 28, 3) after1\n",
      "(1, 50, 50, 3) after2\n",
      "worked1\n",
      "worked2\n",
      "worked3\n",
      "(28, 28) before\n",
      "(28, 28, 3) after colorize\n",
      "(28, 28, 3) after1\n",
      "(1, 50, 50, 3) after2\n",
      "worked1\n",
      "worked2\n",
      "worked3\n",
      "(28, 28) before\n",
      "(28, 28, 3) after colorize\n",
      "(28, 28, 3) after1\n",
      "(1, 50, 50, 3) after2\n",
      "worked1\n",
      "worked2\n",
      "worked3\n",
      "(28, 28) before\n",
      "(28, 28, 3) after colorize\n",
      "(28, 28, 3) after1\n",
      "(1, 50, 50, 3) after2\n",
      "worked1\n",
      "worked2\n",
      "worked3\n",
      "(28, 28) before\n",
      "(28, 28, 3) after colorize\n",
      "(28, 28, 3) after1\n",
      "(1, 50, 50, 3) after2\n",
      "worked1\n",
      "worked2\n",
      "worked3\n",
      "(28, 28) before\n",
      "(28, 28, 3) after colorize\n",
      "(28, 28, 3) after1\n",
      "(1, 50, 50, 3) after2\n",
      "worked1\n",
      "worked2\n",
      "worked3\n",
      "(28, 28) before\n",
      "(28, 28, 3) after colorize\n",
      "(28, 28, 3) after1\n",
      "(1, 50, 50, 3) after2\n",
      "worked1\n",
      "worked2\n",
      "worked3\n",
      "(28, 28) before\n",
      "(28, 28, 3) after colorize\n",
      "(28, 28, 3) after1\n",
      "(1, 50, 50, 3) after2\n",
      "worked1\n",
      "worked2\n",
      "worked3\n",
      "(28, 28) before\n",
      "(28, 28, 3) after colorize\n",
      "(28, 28, 3) after1\n",
      "(1, 50, 50, 3) after2\n",
      "worked1\n",
      "worked2\n",
      "worked3\n",
      "(28, 28) before\n",
      "(28, 28, 3) after colorize\n",
      "(28, 28, 3) after1\n",
      "(1, 50, 50, 3) after2\n",
      "worked1\n",
      "worked2\n",
      "worked3\n",
      "(28, 28) before\n",
      "(28, 28, 3) after colorize\n",
      "(28, 28, 3) after1\n",
      "(1, 50, 50, 3) after2\n",
      "worked1\n",
      "worked2\n",
      "worked3\n",
      "(28, 28) before\n",
      "(28, 28, 3) after colorize\n",
      "(28, 28, 3) after1\n",
      "(1, 50, 50, 3) after2\n",
      "worked1\n",
      "worked2\n",
      "worked3\n",
      "(28, 28) before\n",
      "(28, 28, 3) after colorize\n",
      "(28, 28, 3) after1\n",
      "(1, 50, 50, 3) after2\n",
      "worked1\n",
      "worked2\n",
      "worked3\n",
      "(28, 28) before\n",
      "(28, 28, 3) after colorize\n",
      "(28, 28, 3) after1\n",
      "(1, 50, 50, 3) after2\n",
      "worked1\n",
      "worked2\n",
      "worked3\n",
      "(28, 28) before\n",
      "(28, 28, 3) after colorize\n",
      "(28, 28, 3) after1\n",
      "(1, 50, 50, 3) after2\n",
      "worked1\n",
      "worked2\n",
      "worked3\n",
      "(28, 28) before\n",
      "(28, 28, 3) after colorize\n",
      "(28, 28, 3) after1\n",
      "(1, 50, 50, 3) after2\n",
      "worked1\n",
      "worked2\n",
      "worked3\n",
      "(28, 28) before\n",
      "(28, 28, 3) after colorize\n",
      "(28, 28, 3) after1\n",
      "(1, 50, 50, 3) after2\n",
      "worked1\n",
      "worked2\n",
      "worked3\n",
      "(28, 28) before\n",
      "(28, 28, 3) after colorize\n",
      "(28, 28, 3) after1\n",
      "(1, 50, 50, 3) after2\n",
      "worked1\n",
      "worked2\n",
      "worked3\n",
      "(28, 28) before\n",
      "(28, 28, 3) after colorize\n",
      "(28, 28, 3) after1\n",
      "(1, 50, 50, 3) after2\n",
      "worked1\n",
      "worked2\n",
      "worked3\n",
      "(28, 28) before\n",
      "(28, 28, 3) after colorize\n",
      "(28, 28, 3) after1\n",
      "(1, 50, 50, 3) after2\n",
      "worked1\n",
      "worked2\n",
      "worked3\n",
      "(28, 28) before\n",
      "(28, 28, 3) after colorize\n",
      "(28, 28, 3) after1\n",
      "(1, 50, 50, 3) after2\n",
      "worked1\n",
      "worked2\n",
      "worked3\n",
      "(28, 28) before\n",
      "(28, 28, 3) after colorize\n",
      "(28, 28, 3) after1\n",
      "(1, 50, 50, 3) after2\n",
      "worked1\n",
      "worked2\n",
      "worked3\n",
      "(28, 28) before\n",
      "(28, 28, 3) after colorize\n",
      "(28, 28, 3) after1\n",
      "(1, 50, 50, 3) after2\n",
      "worked1\n",
      "worked2\n",
      "worked3\n",
      "(28, 28) before\n",
      "(28, 28, 3) after colorize\n",
      "(28, 28, 3) after1\n",
      "(1, 50, 50, 3) after2\n",
      "worked1\n",
      "worked2\n",
      "worked3\n",
      "(28, 28) before\n",
      "(28, 28, 3) after colorize\n",
      "(28, 28, 3) after1\n",
      "(1, 50, 50, 3) after2\n",
      "worked1\n",
      "worked2\n",
      "worked3\n",
      "(28, 28) before\n",
      "(28, 28, 3) after colorize\n",
      "(28, 28, 3) after1\n",
      "(1, 50, 50, 3) after2\n",
      "worked1\n",
      "worked2\n",
      "worked3\n",
      "(28, 28) before\n",
      "(28, 28, 3) after colorize\n",
      "(28, 28, 3) after1\n",
      "(1, 50, 50, 3) after2\n",
      "worked1\n",
      "worked2\n",
      "worked3\n"
     ]
    }
   ],
   "source": [
    "import gradio as gr\n",
    "\n",
    "label = gr.outputs.Label(num_top_classes=3)\n",
    "\n",
    "gr.Interface(fn=classify, \n",
    "             inputs=\"sketchpad\",\n",
    "             outputs=label,\n",
    "             live=True).launch()"
   ]
  },
  {
   "cell_type": "code",
   "execution_count": null,
   "id": "11562d4c-7c12-44c9-aed1-1e831b5d21c4",
   "metadata": {},
   "outputs": [],
   "source": []
  },
  {
   "cell_type": "code",
   "execution_count": null,
   "id": "50b4f6fe-3cdc-43af-915c-008f60653dff",
   "metadata": {},
   "outputs": [],
   "source": []
  },
  {
   "cell_type": "code",
   "execution_count": null,
   "id": "5905b36f-76b7-4aee-ad67-24a6a99f0ddf",
   "metadata": {},
   "outputs": [],
   "source": []
  },
  {
   "cell_type": "code",
   "execution_count": null,
   "id": "97e09ed4-e698-4ec4-8fc0-8fe11592c881",
   "metadata": {},
   "outputs": [],
   "source": []
  }
 ],
 "metadata": {
  "kernelspec": {
   "display_name": "Python 3 (ipykernel)",
   "language": "python",
   "name": "python3"
  },
  "language_info": {
   "codemirror_mode": {
    "name": "ipython",
    "version": 3
   },
   "file_extension": ".py",
   "mimetype": "text/x-python",
   "name": "python",
   "nbconvert_exporter": "python",
   "pygments_lexer": "ipython3",
   "version": "3.9.12"
  }
 },
 "nbformat": 4,
 "nbformat_minor": 5
}
