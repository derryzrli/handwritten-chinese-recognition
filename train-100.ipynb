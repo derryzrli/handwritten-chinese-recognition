{
 "cells": [
  {
   "cell_type": "markdown",
   "id": "9cddb979-8588-4aad-aa11-21bfcd9e088e",
   "metadata": {},
   "source": [
    "# We then training the most commonly used 100 out of the 4803 characters"
   ]
  },
  {
   "cell_type": "markdown",
   "id": "f203ed9a-dbe2-4e3d-bf5c-e6276e7011dd",
   "metadata": {},
   "source": [
    "### Imports"
   ]
  },
  {
   "cell_type": "code",
   "execution_count": 3,
   "id": "65b5b3de-80ce-45a0-8dfb-3989c0ed84ba",
   "metadata": {},
   "outputs": [],
   "source": [
    "import os\n",
    "import shutil\n",
    "import numpy as np\n",
    "import pandas as pd\n",
    "import PIL.Image\n",
    "from matplotlib import pyplot as plt\n",
    "\n",
    "from matplotlib.font_manager import FontProperties\n",
    "plt.rcParams['font.family'] = ['Heiti TC'] \n",
    "plt.rcParams['axes.unicode_minus'] = False  # in case minus sign is shown as box\n",
    "\n",
    "import tensorflow as tf\n",
    "from tensorflow.keras.preprocessing.image import load_img, ImageDataGenerator\n",
    "from tensorflow.keras.models import Sequential, load_model\n",
    "from tensorflow.keras.layers import Conv2D, MaxPooling2D, Flatten, Dense, Dropout  \n",
    "from tensorflow.keras.optimizers import Adam"
   ]
  },
  {
   "cell_type": "markdown",
   "id": "21a057cd-def9-4b4f-aa2a-f3c239d507f6",
   "metadata": {},
   "source": [
    "### Specify relevant raw, training, and testing data route"
   ]
  },
  {
   "cell_type": "code",
   "execution_count": 4,
   "id": "d8c9b7b6-1512-4202-83e3-42e60568ec18",
   "metadata": {},
   "outputs": [
    {
     "name": "stdout",
     "output_type": "stream",
     "text": [
      "Current working directory: /Users/derryzrli/Downloads/data_dsi_capstone/traditional_chinese_characters_cleaned\n"
     ]
    }
   ],
   "source": [
    "raw_data_path = '/Users/derryzrli/Downloads/data_dsi_capstone/traditional_chinese_characters_cleaned'\n",
    "training_data_path = '/Users/derryzrli/Downloads/data_dsi_capstone/traditional_chinese_training_data_100/'\n",
    "testing_data_path = '/Users/derryzrli/Downloads/data_dsi_capstone/traditional_chinese_testing_data_100/'\n",
    "\n",
    "os.chdir(raw_data_path)"
   ]
  },
  {
   "cell_type": "markdown",
   "id": "1965d854-45e6-4939-8a42-68e644bb8892",
   "metadata": {},
   "source": [
    "### 100 Most Common Characters in Chinese"
   ]
  },
  {
   "cell_type": "code",
   "execution_count": 11,
   "id": "f467f500-4bf2-4b0d-a7a7-9b3fc3ecf1d2",
   "metadata": {},
   "outputs": [],
   "source": [
    "selected_chars = ['的', '二', '是', '不', '了', '在', '人', '有', '我', '他', '這', '個', '們', '中', '來', '上', '大', '為', '和', \n",
    "                  '國', '地', '道', '以', '說', '時', '要', '就', '出', '會', '可', '也', '你', '對', '生', '能', '而', '子', '那', '得',\n",
    "                 '於', '著', '下', '自', '之', '年', '過', '發', '後', '作', '里', '用', '到', '行', '所', '然', '家', '種', '事', '成', \n",
    "                '方', '多', '經', '去', '法', '學', '如', '都', '同', '現', '當', '沒', '動', '面', '起', '看', '定', '天', '分', '還', \n",
    "                  '進', '好', '小', '部', '其', '些', '主', '樣', '理', '心', '她', '本', '前', '開', '但', '因', '只', '從', '想', '實', '日'] "
   ]
  },
  {
   "cell_type": "code",
   "execution_count": 6,
   "id": "6259a55f-b21a-48dd-b329-8da87afdaf6c",
   "metadata": {},
   "outputs": [
    {
     "data": {
      "text/plain": [
       "100"
      ]
     },
     "execution_count": 6,
     "metadata": {},
     "output_type": "execute_result"
    }
   ],
   "source": [
    "len(set(selected_chars))"
   ]
  },
  {
   "cell_type": "markdown",
   "id": "86794b43-ef97-4879-87c8-29c57e2e2936",
   "metadata": {},
   "source": [
    "### We create our training directories from the raw dataset "
   ]
  },
  {
   "cell_type": "code",
   "execution_count": 12,
   "id": "9ee85746-d4e0-45fa-b9a6-8f8a83b64fad",
   "metadata": {},
   "outputs": [],
   "source": [
    "os.chdir(raw_data_path)\n",
    "try: \n",
    "    os.mkdir(training_data_path) \n",
    "\n",
    "except:\n",
    "    shutil.rmtree(training_data_path)\n",
    "    os.mkdir(training_data_path) \n",
    "\n",
    "finally: \n",
    "    for char in selected_chars:\n",
    "        shutil.copytree(raw_data_path+'/'+char, training_data_path+'/'+char )"
   ]
  },
  {
   "cell_type": "code",
   "execution_count": 13,
   "id": "6fd0df99-2cee-4023-ad87-a2bd63e19fbd",
   "metadata": {},
   "outputs": [
    {
     "data": {
      "text/plain": [
       "'/Users/derryzrli/Downloads/data_dsi_capstone/traditional_chinese_characters_cleaned'"
      ]
     },
     "execution_count": 13,
     "metadata": {},
     "output_type": "execute_result"
    }
   ],
   "source": [
    "os.getcwd()"
   ]
  },
  {
   "cell_type": "markdown",
   "id": "d2d89f3e-a554-4491-99b0-195f599b2257",
   "metadata": {},
   "source": [
    "### Let's visualize a sample data"
   ]
  },
  {
   "cell_type": "code",
   "execution_count": 14,
   "id": "1f78d227-4d04-4b33-885d-7f5e33d3a564",
   "metadata": {},
   "outputs": [],
   "source": [
    "img_list = []\n",
    "for char in selected_chars : \n",
    "    folder_path = training_data_path+'/'+char\n",
    "    file_names = os.listdir(folder_path)\n",
    "    for i in range(7):\n",
    "        img_list.append(folder_path+'/'+file_names[i])"
   ]
  },
  {
   "cell_type": "code",
   "execution_count": 15,
   "id": "290eb93f-a959-4ff2-9d0e-8f00a4da7f18",
   "metadata": {},
   "outputs": [
    {
     "data": {
      "text/plain": [
       "['/Users/derryzrli/Downloads/data_dsi_capstone/traditional_chinese_training_data_100//的/的_49.png',\n",
       " '/Users/derryzrli/Downloads/data_dsi_capstone/traditional_chinese_training_data_100//的/的_48.png',\n",
       " '/Users/derryzrli/Downloads/data_dsi_capstone/traditional_chinese_training_data_100//的/的_9.png']"
      ]
     },
     "execution_count": 15,
     "metadata": {},
     "output_type": "execute_result"
    }
   ],
   "source": [
    "img_list[:3]"
   ]
  },
  {
   "cell_type": "markdown",
   "id": "d6f6b619-deef-4442-b924-9d62f378f19a",
   "metadata": {},
   "source": [
    "### Sample Data"
   ]
  },
  {
   "cell_type": "code",
   "execution_count": 16,
   "id": "8003b6cd-b164-4acd-a3d9-89140f1a7b67",
   "metadata": {},
   "outputs": [
    {
     "name": "stderr",
     "output_type": "stream",
     "text": [
      "2022-06-12 10:53:38.452314: I tensorflow/core/platform/cpu_feature_guard.cc:142] This TensorFlow binary is optimized with oneAPI Deep Neural Network Library (oneDNN) to use the following CPU instructions in performance-critical operations:  SSE4.1 SSE4.2\n",
      "To enable them in other operations, rebuild TensorFlow with the appropriate compiler flags.\n"
     ]
    },
    {
     "name": "stdout",
     "output_type": "stream",
     "text": [
      "{'二', '的', '是', '不'}\n"
     ]
    },
    {
     "data": {
      "image/png": "[encoded data removed]",
      "text/plain": [
       "<Figure size 864x864 with 28 Axes>"
      ]
     },
     "metadata": {
      "needs_background": "light"
     },
     "output_type": "display_data"
    }
   ],
   "source": [
    "l = []\n",
    "for i in range(28):      \n",
    "    plt.subplot(4,7,i+1)\n",
    "    title = img_list[i].split('/')[-1].split('_')[0]\n",
    "    \n",
    "    plt.gcf().set_size_inches((12,12)) \n",
    "    img = load_img(img_list[i])  \n",
    "    img = tf.constant(np.array(img))\n",
    "    plt.imshow(img)\n",
    "    plt.title(title)\n",
    "    l.append(title)\n",
    "print(set(l))"
   ]
  },
  {
   "cell_type": "markdown",
   "id": "9eda8768-e673-4c3e-a7b2-4fa0621247a4",
   "metadata": {},
   "source": [
    "----"
   ]
  },
  {
   "cell_type": "markdown",
   "id": "ef421e51-bad2-4363-8570-71f97fdd743c",
   "metadata": {},
   "source": [
    "### Data Augmentation"
   ]
  },
  {
   "cell_type": "markdown",
   "id": "45b41d61-c3a4-4230-86fe-a13f9a51ce74",
   "metadata": {},
   "source": [
    "#### Training Set"
   ]
  },
  {
   "cell_type": "code",
   "execution_count": 17,
   "id": "17b2bd24-b632-4fe2-9d37-e3661fab4dd0",
   "metadata": {},
   "outputs": [],
   "source": [
    "train_data_gen = ImageDataGenerator(rescale = 1./255, \n",
    "                                    validation_split = 0.2,\n",
    "                                    width_shift_range = 0.05,   \n",
    "                                    height_shift_range = 0.05,\n",
    "                                    zoom_range = 0.1)"
   ]
  },
  {
   "cell_type": "code",
   "execution_count": 18,
   "id": "c49f57fa-8372-42b3-a40a-4efe0e43dc03",
   "metadata": {},
   "outputs": [
    {
     "name": "stdout",
     "output_type": "stream",
     "text": [
      "Found 4165 images belonging to 100 classes.\n"
     ]
    }
   ],
   "source": [
    "train_gen = train_data_gen.flow_from_directory(training_data_path,\n",
    "                                               target_size = (50,50),\n",
    "                                               batch_size = 8,\n",
    "                                               class_mode = 'categorical',\n",
    "                                               subset = 'training'\n",
    "                                              )"
   ]
  },
  {
   "cell_type": "markdown",
   "id": "9749d261-0b01-431e-bd0f-96366c326466",
   "metadata": {},
   "source": [
    "#### Testing Set"
   ]
  },
  {
   "cell_type": "code",
   "execution_count": 19,
   "id": "6418c94d-e1ff-4c8e-a354-d91613dbae46",
   "metadata": {},
   "outputs": [],
   "source": [
    "test_data_gen = ImageDataGenerator(rescale = 1./255, \n",
    "                                    validation_split = 0.2)"
   ]
  },
  {
   "cell_type": "code",
   "execution_count": 20,
   "id": "b9cb1e89-382b-4ed6-8879-42338ef238c8",
   "metadata": {},
   "outputs": [
    {
     "name": "stdout",
     "output_type": "stream",
     "text": [
      "Found 1013 images belonging to 100 classes.\n"
     ]
    }
   ],
   "source": [
    "test_gen = test_data_gen.flow_from_directory(training_data_path,\n",
    "                                             target_size = (50,50),\n",
    "                                             batch_size = 8,\n",
    "                                             class_mode = 'categorical',\n",
    "                                             subset = 'validation')"
   ]
  },
  {
   "cell_type": "code",
   "execution_count": 21,
   "id": "29cfc86f-7566-4686-af4d-34e9f8540458",
   "metadata": {},
   "outputs": [
    {
     "data": {
      "text/plain": [
       "(8, 50, 50, 3)"
      ]
     },
     "execution_count": 21,
     "metadata": {},
     "output_type": "execute_result"
    }
   ],
   "source": [
    "test_gen[0][0].shape"
   ]
  },
  {
   "cell_type": "markdown",
   "id": "896ce260-a32d-4798-859d-b93221a7ff14",
   "metadata": {},
   "source": [
    "### Construct the CNN Sequential Model"
   ]
  },
  {
   "cell_type": "code",
   "execution_count": 30,
   "id": "8e8bfd75-d742-4e88-8e4b-1a6d38ac35e7",
   "metadata": {},
   "outputs": [],
   "source": [
    "model = Sequential() \n",
    "model.add(\n",
    "    Conv2D(filters=5, \n",
    "           kernel_size=(2,2), \n",
    "           activation='relu', \n",
    "           padding='same',\n",
    "           input_shape=(50,50,3),\n",
    "          )\n",
    ")\n",
    "\n",
    "model.add(MaxPooling2D(pool_size=(2,2)))\n",
    "\n",
    "model.add(\n",
    "     Conv2D(filters=5, \n",
    "            kernel_size=(2,2), \n",
    "            activation='relu', \n",
    "            padding='same',\n",
    "           )\n",
    ")\n",
    "\n",
    "model.add(MaxPooling2D(pool_size=(2,2)))\n",
    "\n",
    "model.add(Flatten())\n",
    "\n",
    "model.add(Dropout(rate=0.5))\n",
    "\n",
    "model.add(Dense(512, activation='relu'))\n",
    "\n",
    "model.add(Dense(len(selected_chars), activation='softmax'))\n"
   ]
  },
  {
   "cell_type": "code",
   "execution_count": 31,
   "id": "7960b281-02b9-4e5e-b6a0-11595379d645",
   "metadata": {},
   "outputs": [
    {
     "name": "stdout",
     "output_type": "stream",
     "text": [
      "Model: \"sequential_1\"\n",
      "_________________________________________________________________\n",
      "Layer (type)                 Output Shape              Param #   \n",
      "=================================================================\n",
      "conv2d_2 (Conv2D)            (None, 50, 50, 5)         65        \n",
      "_________________________________________________________________\n",
      "max_pooling2d_2 (MaxPooling2 (None, 25, 25, 5)         0         \n",
      "_________________________________________________________________\n",
      "conv2d_3 (Conv2D)            (None, 25, 25, 5)         105       \n",
      "_________________________________________________________________\n",
      "max_pooling2d_3 (MaxPooling2 (None, 12, 12, 5)         0         \n",
      "_________________________________________________________________\n",
      "flatten_1 (Flatten)          (None, 720)               0         \n",
      "_________________________________________________________________\n",
      "dropout_1 (Dropout)          (None, 720)               0         \n",
      "_________________________________________________________________\n",
      "dense_2 (Dense)              (None, 512)               369152    \n",
      "_________________________________________________________________\n",
      "dense_3 (Dense)              (None, 100)               51300     \n",
      "=================================================================\n",
      "Total params: 420,622\n",
      "Trainable params: 420,622\n",
      "Non-trainable params: 0\n",
      "_________________________________________________________________\n"
     ]
    }
   ],
   "source": [
    "model.summary()"
   ]
  },
  {
   "cell_type": "markdown",
   "id": "ac131f28-aaee-41fa-8d11-1b1a4ee1060c",
   "metadata": {},
   "source": [
    "### Compile the model"
   ]
  },
  {
   "cell_type": "code",
   "execution_count": 32,
   "id": "14e554c4-e227-494b-bd80-000f1fdacc4c",
   "metadata": {},
   "outputs": [],
   "source": [
    "model.compile(optimizer = 'adam', loss = 'categorical_crossentropy', metrics = ['accuracy'])"
   ]
  },
  {
   "cell_type": "markdown",
   "id": "4d2e86a0-2afd-40f7-ae4d-29d7f441fbb8",
   "metadata": {},
   "source": [
    "---"
   ]
  },
  {
   "cell_type": "markdown",
   "id": "4999c8f4-0bbb-4926-aa5f-fb701410d100",
   "metadata": {},
   "source": [
    "### Fit and train the model \n",
    "#### (Note: this is done with the same-named python script in this directory to avoid Jupyter kernel death)"
   ]
  },
  {
   "cell_type": "code",
   "execution_count": null,
   "id": "76042f33-3f3a-47f1-9775-39d14eecb5da",
   "metadata": {
    "collapsed": true,
    "jupyter": {
     "outputs_hidden": true
    },
    "tags": []
   },
   "outputs": [
    {
     "name": "stdout",
     "output_type": "stream",
     "text": [
      "Epoch 1/1000\n",
      "521/521 [==============================] - 4s 7ms/step - loss: 4.6405 - accuracy: 0.0125 - val_loss: 4.0696 - val_accuracy: 0.1155\n",
      "Epoch 2/1000\n",
      "521/521 [==============================] - 3s 7ms/step - loss: 3.7810 - accuracy: 0.1264 - val_loss: 2.8844 - val_accuracy: 0.2833\n",
      "Epoch 3/1000\n",
      "521/521 [==============================] - 3s 7ms/step - loss: 2.7758 - accuracy: 0.3050 - val_loss: 2.1829 - val_accuracy: 0.4590\n",
      "Epoch 4/1000\n",
      "521/521 [==============================] - 3s 7ms/step - loss: 2.2323 - accuracy: 0.4290 - val_loss: 2.0069 - val_accuracy: 0.4669\n",
      "Epoch 5/1000\n",
      "521/521 [==============================] - 3s 7ms/step - loss: 1.9913 - accuracy: 0.4658 - val_loss: 1.7980 - val_accuracy: 0.5341\n",
      "Epoch 6/1000\n",
      "521/521 [==============================] - 3s 7ms/step - loss: 1.8023 - accuracy: 0.5112 - val_loss: 1.8292 - val_accuracy: 0.5212\n",
      "Epoch 7/1000\n",
      "521/521 [==============================] - 3s 7ms/step - loss: 1.7031 - accuracy: 0.5251 - val_loss: 1.6304 - val_accuracy: 0.5814\n",
      "Epoch 8/1000\n",
      "521/521 [==============================] - 4s 7ms/step - loss: 1.6240 - accuracy: 0.5622 - val_loss: 1.5733 - val_accuracy: 0.5814\n",
      "Epoch 9/1000\n",
      "521/521 [==============================] - 4s 7ms/step - loss: 1.5437 - accuracy: 0.5672 - val_loss: 1.4479 - val_accuracy: 0.6170\n",
      "Epoch 10/1000\n",
      "521/521 [==============================] - 4s 7ms/step - loss: 1.4826 - accuracy: 0.5809 - val_loss: 1.4092 - val_accuracy: 0.6397\n",
      "Epoch 11/1000\n",
      "521/521 [==============================] - 3s 7ms/step - loss: 1.4013 - accuracy: 0.6062 - val_loss: 1.5235 - val_accuracy: 0.5903\n",
      "Epoch 12/1000\n",
      "521/521 [==============================] - 4s 7ms/step - loss: 1.3679 - accuracy: 0.6179 - val_loss: 1.3467 - val_accuracy: 0.6298\n",
      "Epoch 13/1000\n",
      "521/521 [==============================] - 3s 7ms/step - loss: 1.3302 - accuracy: 0.6350 - val_loss: 1.4807 - val_accuracy: 0.6022\n",
      "Epoch 14/1000\n",
      "521/521 [==============================] - 4s 7ms/step - loss: 1.2685 - accuracy: 0.6483 - val_loss: 1.3292 - val_accuracy: 0.6505\n",
      "Epoch 15/1000\n",
      "521/521 [==============================] - 3s 7ms/step - loss: 1.2601 - accuracy: 0.6358 - val_loss: 1.3819 - val_accuracy: 0.6318\n",
      "Epoch 16/1000\n",
      "521/521 [==============================] - 3s 7ms/step - loss: 1.1681 - accuracy: 0.6696 - val_loss: 1.2933 - val_accuracy: 0.6555\n",
      "Epoch 17/1000\n",
      "521/521 [==============================] - 3s 7ms/step - loss: 1.2567 - accuracy: 0.6334 - val_loss: 1.2712 - val_accuracy: 0.6575\n",
      "Epoch 18/1000\n",
      "521/521 [==============================] - 3s 7ms/step - loss: 1.1588 - accuracy: 0.6704 - val_loss: 1.3413 - val_accuracy: 0.6278\n",
      "Epoch 19/1000\n",
      "521/521 [==============================] - 3s 7ms/step - loss: 1.1644 - accuracy: 0.6584 - val_loss: 1.2972 - val_accuracy: 0.6545\n",
      "Epoch 20/1000\n",
      "521/521 [==============================] - 3s 7ms/step - loss: 1.0845 - accuracy: 0.6793 - val_loss: 1.2010 - val_accuracy: 0.6732\n",
      "Epoch 21/1000\n",
      "521/521 [==============================] - 3s 7ms/step - loss: 1.0536 - accuracy: 0.6918 - val_loss: 1.2730 - val_accuracy: 0.6496\n",
      "Epoch 22/1000\n",
      "521/521 [==============================] - 3s 7ms/step - loss: 1.1000 - accuracy: 0.6950 - val_loss: 1.1824 - val_accuracy: 0.6910\n",
      "Epoch 23/1000\n",
      "521/521 [==============================] - 3s 7ms/step - loss: 1.0433 - accuracy: 0.6974 - val_loss: 1.4157 - val_accuracy: 0.6347\n",
      "Epoch 24/1000\n",
      "521/521 [==============================] - 3s 7ms/step - loss: 1.0901 - accuracy: 0.6894 - val_loss: 1.2211 - val_accuracy: 0.6841\n",
      "Epoch 25/1000\n",
      "521/521 [==============================] - 3s 7ms/step - loss: 1.0527 - accuracy: 0.6953 - val_loss: 1.1866 - val_accuracy: 0.6930\n",
      "Epoch 26/1000\n",
      "521/521 [==============================] - 3s 7ms/step - loss: 1.0109 - accuracy: 0.7100 - val_loss: 1.1031 - val_accuracy: 0.6979\n",
      "Epoch 27/1000\n",
      "521/521 [==============================] - 3s 7ms/step - loss: 0.9680 - accuracy: 0.7250 - val_loss: 1.2250 - val_accuracy: 0.6742\n",
      "Epoch 28/1000\n",
      "521/521 [==============================] - 3s 7ms/step - loss: 0.9572 - accuracy: 0.7093 - val_loss: 1.2114 - val_accuracy: 0.6703\n",
      "Epoch 29/1000\n",
      "521/521 [==============================] - 3s 7ms/step - loss: 0.9920 - accuracy: 0.7109 - val_loss: 1.2153 - val_accuracy: 0.6802\n",
      "Epoch 30/1000\n",
      "521/521 [==============================] - 3s 7ms/step - loss: 0.9565 - accuracy: 0.7223 - val_loss: 1.1841 - val_accuracy: 0.6979\n",
      "Epoch 31/1000\n",
      "521/521 [==============================] - 3s 7ms/step - loss: 0.9762 - accuracy: 0.7213 - val_loss: 1.2003 - val_accuracy: 0.6811\n",
      "Epoch 32/1000\n",
      "521/521 [==============================] - 3s 7ms/step - loss: 0.8958 - accuracy: 0.7464 - val_loss: 1.1221 - val_accuracy: 0.7019\n",
      "Epoch 33/1000\n",
      "521/521 [==============================] - 3s 7ms/step - loss: 0.9038 - accuracy: 0.7477 - val_loss: 1.1340 - val_accuracy: 0.6930\n",
      "Epoch 34/1000\n",
      "521/521 [==============================] - 3s 7ms/step - loss: 0.9223 - accuracy: 0.7259 - val_loss: 1.2690 - val_accuracy: 0.6584\n",
      "Epoch 35/1000\n",
      "521/521 [==============================] - 3s 7ms/step - loss: 0.8889 - accuracy: 0.7455 - val_loss: 1.1237 - val_accuracy: 0.7187\n",
      "Epoch 36/1000\n",
      "521/521 [==============================] - 3s 7ms/step - loss: 0.8964 - accuracy: 0.7290 - val_loss: 1.1422 - val_accuracy: 0.7216\n",
      "Epoch 37/1000\n",
      "521/521 [==============================] - 3s 7ms/step - loss: 0.8715 - accuracy: 0.7516 - val_loss: 1.1130 - val_accuracy: 0.7275\n",
      "Epoch 38/1000\n",
      "521/521 [==============================] - 3s 7ms/step - loss: 0.8960 - accuracy: 0.7350 - val_loss: 1.1788 - val_accuracy: 0.7019\n",
      "Epoch 39/1000\n",
      "521/521 [==============================] - 3s 7ms/step - loss: 0.8610 - accuracy: 0.7484 - val_loss: 1.1191 - val_accuracy: 0.7058\n",
      "Epoch 40/1000\n",
      "521/521 [==============================] - 3s 7ms/step - loss: 0.8428 - accuracy: 0.7458 - val_loss: 1.1243 - val_accuracy: 0.7117\n",
      "Epoch 41/1000\n",
      "521/521 [==============================] - 3s 7ms/step - loss: 0.8262 - accuracy: 0.7717 - val_loss: 1.1845 - val_accuracy: 0.6644\n",
      "Epoch 42/1000\n",
      "521/521 [==============================] - 3s 7ms/step - loss: 0.8527 - accuracy: 0.7487 - val_loss: 1.1538 - val_accuracy: 0.6950\n",
      "Epoch 43/1000\n",
      "521/521 [==============================] - 3s 7ms/step - loss: 0.8089 - accuracy: 0.7597 - val_loss: 1.1831 - val_accuracy: 0.6979\n",
      "Epoch 44/1000\n",
      "521/521 [==============================] - 3s 7ms/step - loss: 0.8500 - accuracy: 0.7565 - val_loss: 1.0690 - val_accuracy: 0.7236\n",
      "Epoch 45/1000\n",
      "521/521 [==============================] - 3s 7ms/step - loss: 0.8449 - accuracy: 0.7502 - val_loss: 1.0492 - val_accuracy: 0.7256\n",
      "Epoch 46/1000\n",
      "521/521 [==============================] - 3s 7ms/step - loss: 0.7890 - accuracy: 0.7652 - val_loss: 1.0771 - val_accuracy: 0.7335\n",
      "Epoch 47/1000\n",
      "521/521 [==============================] - 3s 7ms/step - loss: 0.7957 - accuracy: 0.7689 - val_loss: 1.1231 - val_accuracy: 0.7029\n",
      "Epoch 48/1000\n",
      "521/521 [==============================] - 4s 7ms/step - loss: 0.7646 - accuracy: 0.7731 - val_loss: 1.0967 - val_accuracy: 0.7206\n",
      "Epoch 49/1000\n",
      "521/521 [==============================] - 3s 7ms/step - loss: 0.7854 - accuracy: 0.7733 - val_loss: 1.1468 - val_accuracy: 0.7127\n",
      "Epoch 50/1000\n",
      "521/521 [==============================] - 3s 7ms/step - loss: 0.7552 - accuracy: 0.7706 - val_loss: 1.0743 - val_accuracy: 0.7305\n",
      "Epoch 51/1000\n",
      "521/521 [==============================] - 3s 7ms/step - loss: 0.7807 - accuracy: 0.7736 - val_loss: 1.0895 - val_accuracy: 0.7226\n",
      "Epoch 52/1000\n",
      "521/521 [==============================] - 3s 7ms/step - loss: 0.7746 - accuracy: 0.7609 - val_loss: 1.0766 - val_accuracy: 0.7285\n",
      "Epoch 53/1000\n",
      "521/521 [==============================] - 3s 7ms/step - loss: 0.7578 - accuracy: 0.7723 - val_loss: 1.0660 - val_accuracy: 0.7315\n",
      "Epoch 54/1000\n",
      "521/521 [==============================] - 3s 7ms/step - loss: 0.7537 - accuracy: 0.7734 - val_loss: 1.1367 - val_accuracy: 0.6920\n",
      "Epoch 55/1000\n",
      "521/521 [==============================] - 3s 7ms/step - loss: 0.7108 - accuracy: 0.7884 - val_loss: 1.0631 - val_accuracy: 0.7187\n",
      "Epoch 56/1000\n",
      "521/521 [==============================] - 3s 7ms/step - loss: 0.7942 - accuracy: 0.7701 - val_loss: 1.0587 - val_accuracy: 0.7463\n",
      "Epoch 57/1000\n",
      "521/521 [==============================] - 3s 7ms/step - loss: 0.7841 - accuracy: 0.7711 - val_loss: 1.0511 - val_accuracy: 0.7246\n",
      "Epoch 58/1000\n",
      "521/521 [==============================] - 3s 7ms/step - loss: 0.7113 - accuracy: 0.7903 - val_loss: 1.1198 - val_accuracy: 0.7206\n",
      "Epoch 59/1000\n",
      "521/521 [==============================] - 3s 7ms/step - loss: 0.7496 - accuracy: 0.7768 - val_loss: 1.1164 - val_accuracy: 0.7048\n",
      "Epoch 60/1000\n",
      "521/521 [==============================] - 3s 7ms/step - loss: 0.7610 - accuracy: 0.7852 - val_loss: 1.0492 - val_accuracy: 0.7206\n",
      "Epoch 61/1000\n",
      "521/521 [==============================] - 3s 7ms/step - loss: 0.6896 - accuracy: 0.7944 - val_loss: 1.1248 - val_accuracy: 0.6920\n",
      "Epoch 62/1000\n",
      "521/521 [==============================] - 3s 7ms/step - loss: 0.7916 - accuracy: 0.7769 - val_loss: 1.1465 - val_accuracy: 0.7058\n",
      "Epoch 63/1000\n",
      "521/521 [==============================] - 3s 7ms/step - loss: 0.6886 - accuracy: 0.7928 - val_loss: 1.0716 - val_accuracy: 0.7256\n",
      "Epoch 64/1000\n",
      "381/521 [====================>.........] - ETA: 0s - loss: 0.6948 - accuracy: 0.8026"
     ]
    }
   ],
   "source": [
    "history = model.fit(train_gen, validation_data=test_gen, epochs=1000, verbose=1)"
   ]
  },
  {
   "cell_type": "markdown",
   "id": "bcd0ed4f-ac0b-4559-83f7-efdd6ea236f0",
   "metadata": {},
   "source": [
    "#### We see that the performance is around 76% accuracy on testing set, after 1000 epochs, which is not bad."
   ]
  },
  {
   "cell_type": "markdown",
   "id": "2db89c05-dc1e-4110-bf50-23b0a3220c86",
   "metadata": {},
   "source": [
    "---"
   ]
  },
  {
   "cell_type": "markdown",
   "id": "da7d1da1-13c9-4e13-9ccc-e94c66277cb4",
   "metadata": {},
   "source": [
    "### Save the model"
   ]
  },
  {
   "cell_type": "code",
   "execution_count": 21,
   "id": "fdbd20ef-72dd-45da-a3fb-66e64f1b3e0d",
   "metadata": {},
   "outputs": [],
   "source": [
    "os.chdir(training_data_path)\n",
    "model.save('CNN_model_100.h5')"
   ]
  },
  {
   "cell_type": "markdown",
   "id": "19e8ad53-de94-4af8-8413-a953270ad767",
   "metadata": {},
   "source": [
    "### Save the history info to track accuracy and loss"
   ]
  },
  {
   "cell_type": "code",
   "execution_count": 22,
   "id": "3d48cc49-510b-44f2-9d56-63ad4b5159ba",
   "metadata": {},
   "outputs": [],
   "source": [
    "import pickle"
   ]
  },
  {
   "cell_type": "code",
   "execution_count": 23,
   "id": "564d349b-7ade-43c4-a036-8429e2392335",
   "metadata": {},
   "outputs": [],
   "source": [
    "with open('./trainHistoryDict', 'wb') as file_pi:\n",
    "    pickle.dump(history.history, file_pi)"
   ]
  }
 ],
 "metadata": {
  "kernelspec": {
   "display_name": "Python 3 (ipykernel)",
   "language": "python",
   "name": "python3"
  },
  "language_info": {
   "codemirror_mode": {
    "name": "ipython",
    "version": 3
   },
   "file_extension": ".py",
   "mimetype": "text/x-python",
   "name": "python",
   "nbconvert_exporter": "python",
   "pygments_lexer": "ipython3",
   "version": "3.9.12"
  }
 },
 "nbformat": 4,
 "nbformat_minor": 5
}
